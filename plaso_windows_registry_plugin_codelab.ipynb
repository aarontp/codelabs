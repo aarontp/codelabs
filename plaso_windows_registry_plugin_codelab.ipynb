{
 "metadata": {
  "name": "",
  "signature": "sha256:f120d1a6382d53d462c5f75f1582cf28834cf71693edd060fc7a49cea398cd34"
 },
 "nbformat": 3,
 "nbformat_minor": 0,
 "worksheets": [
  {
   "cells": [
    {
     "cell_type": "markdown",
     "metadata": {},
     "source": [
      "#Windows Registry Plugin Code Lab"
     ]
    },
    {
     "cell_type": "heading",
     "level": 2,
     "metadata": {},
     "source": [
      "Intended Audience"
     ]
    },
    {
     "cell_type": "markdown",
     "metadata": {},
     "source": [
      "This lab is for people who want to learn how to write and execute a Plaso plugin in Python.  This tutorial assumes:\n",
      "\n",
      "+  You have a functional development environment\n",
      "+  You have used Plaso\n",
      "+  You are familiar with the Python programming language\n",
      "+  You are looking to write a plugin (as an opposed to a parser, which is covered in a [separate codelab](http://plaso.kiddaland.net/developer/code-lab/text-parser))\n",
      "\n",
      "## Objective\n",
      "\n",
      "This lab will teach you how to write a Windows Registry plugin with tests for the Plaso framework.  By the end you will be able to:\n",
      "\n",
      "+ Write a Windows Registry plugin for plaso\n",
      "+ Write unit tests for the plugin\n",
      "+ Run the plugin as part of plaso/log2timeline\n",
      "\n",
      "## Expectations\n",
      "\n",
      "This lab should take you a couple hours to complete.  Some of this is dependent entirely on strange build issues you might have.  We are not attempting to get you to check in code yet, this is more to demonstrate how a plugin is written. For this to be a checked in plugin you need to write a plugin against a registry key/value that is not already parsed and split the code here into several files (layout explained below).\n",
      "\n",
      "## Introduction\n",
      "\n",
      "Welcome to writing a Plaso plugin!  From the outside, writing a plugin can be daunting, but once you get your dev environment going, you've fought half the battle.  This code lab features a simple Windows Registry plugin, but the formula can be used for any type of plugins (another codelab will demonstrate a SQLite database plugin and the hope is that with these two codelabs we should have the plugin writing more or less covered). You may also be interested in the [text parser codelab](http://plaso.kiddaland.net/developer/code-lab/text-parser).\n",
      "\n",
      "## Before Starting\n",
      "\n",
      "Get familiar with the [developers guide](http://plaso.kiddaland.net/developer) and more specifically the [style guide](http://plaso.kiddaland.net/developer/style-guide). To make the code easier to maintain we follow a style guide, partially based on the [Google Python Style Guide](http://google-styleguide.googlecode.com/svn/trunk/pyguide.html) but slightly modified to fit our needs.\n",
      "\n",
      "We also follow a code review process that is discussed on the [style guide](http://plaso.kiddaland.net/developer/style-guide) site.\n",
      "\n",
      "This is an iPython notebook, and if you are not familiar with it then here is the brief introduction. This is basically an iPython shell wrapped up in a pretty GUI (browser window). You can execute any Python code you wish, and quickly go back, edit and re-run code. To run the code, click the window with the code segment and press \"Shift+Enter\", that way you will see that the bracket on the left will change to indicate it has been executed and you may see some output below (if the code segment produced any output).\n",
      "\n",
      "One thing to make note of is that some of the code segments depend on previous code segments having been executed. So in order for this codelab to work properly you need to execute **EVERY** code segment that is presented here, especially all class declarations and import statements, but to be sure just execute them all [except those explicitly stated as **optional**].\n",
      "\n",
      "To make it easier to get documentation about various classes we may use in the codelab we'll start with defining a simple function to print out help (so to execute, click the code segment below and press \"SHIFT+ENTER\")."
     ]
    },
    {
     "cell_type": "code",
     "collapsed": false,
     "input": [
      "import inspect\n",
      "\n",
      "# Let's put this in a method so we can easily call it from other parts of the codelab.\n",
      "def PrintClassHelp(class_object, filter_string=''):\n",
      "  \"\"\"Prints a help string for a given class object.\n",
      "\n",
      "  Args:\n",
      "    class_object: The class that we are about to inspect.\n",
      "    filter_string: Filter class members that start with a particular string.\n",
      "  \"\"\"\n",
      "  # Print the docstring of the class.\n",
      "  print u''\n",
      "  print class_object.__doc__\n",
      "   \n",
      "  # Print information for every member function.\n",
      "  additional_members = []\n",
      "  for member_name, member_value in inspect.getmembers(class_object):\n",
      "    # Check to see if we are filtering out members starting with\n",
      "    # a particular string.\n",
      "    if filter_string and not member_name.startswith(filter_string):\n",
      "      continue\n",
      "    if inspect.ismethod(member_value):\n",
      "      args = inspect.getargspec(member_value)\n",
      "      doc_string = member_value.__doc__\n",
      "        \n",
      "      print u'{0}{1:>20s}({2}){0:>10}\\n\\n{3}\\n{4}\\n\\n'.format(\n",
      "          '*'*5, member_name, u','.join(args.args), doc_string, '-'*80)\n",
      "    else:\n",
      "      if member_name.startswith('_'):\n",
      "        continue\n",
      "      if member_name in ['classes', 'parent_class', 'plugin_feature', 'top_level_class']:\n",
      "        continue\n",
      "        \n",
      "      additional_members.append(u'{} = {}'.format(member_name, repr(member_value)))\n",
      "\n",
      "  if additional_members:\n",
      "    print '\\n'\n",
      "    print '*** Additional Members of Class ***\\n\\n ',\n",
      "    print u'\\n  '.join(additional_members)"
     ],
     "language": "python",
     "metadata": {},
     "outputs": []
    },
    {
     "cell_type": "markdown",
     "metadata": {},
     "source": [
      "\n",
      "## Disclaimer\n",
      "\n",
      "During this codelab we will be using the iPython notebook interface for everything, which means we have all the classes and code in a single file. Once we deploy the code to the actual codebase we would need to save the code in several places, typically something like:\n",
      "\n",
      "+ plaso/parsers/winreg_plugins/myplugin.py\n",
      "+ plaso/parsers/winreg_plugins/myplugin\\_test.py\n",
      "+ plaso/formatters/myplugin.py [this is likely not needed in the case of a Windows Registry plugin]\n",
      "\n",
      "And make necessary changes to:\n",
      "\n",
      "+ plaso/parsers/winreg\\_plugins/\\_\\_init\\_\\_.py\n",
      "+ plaso/formatters/\\_\\_init\\_\\_.py [again, likely not needed]\n",
      "\n",
      "to include the new plugin and formatter in the tool. We may also want to change the **plaso/frontend/presets.py** to include the plugin in a preset [this depends on the plugin itself, sometimes you want to include the parser and all its plugins, sometimes a specific plugin -- which is the case here, you don't want to specifically load one registry plugin; you want to load them all typically].\n",
      "\n",
      "We are however omitting all these details to make the codelab easier to follow along. This can also be used for people to test their plugins and play with them without the need to mess with the codebase and once the plugin is fully functional then create the necessary files and start the code review process.\n",
      "\n",
      "There are also a lot of comments in the code in this codelab that would typically be omitted from a released plugin. To see the actual code that is used as an example here click on one of the below links:\n",
      "\n",
      "+ [plaso/parsers/winreg_plugins/lfu.py](https://github.com/log2timeline/plaso/tree/master/plaso/parsers/winreg_plugins/lfu.py)\n",
      "+ [plaso/parsers/winreg_plugins/lfu_test.py](https://github.com/log2timeline/plaso/tree/master/plaso/parsers/winreg_plugins/lfu_test.py)\n",
      "\n",
      "## Writing the Plugin\n",
      "\n",
      "We are going to write the plugin completely in this iPython notebook, and test it there too. There is no need for anything else than this notebook, a sample registry file and the plaso libs available.\n",
      "\n",
      "Before writing a plugin, and now we are assuming we are attempting parse a particular registry key, ask yourself these questions:\n",
      "\n",
      "+ Examine the registry key itself. What values does it have?\n",
      "+ Are there any subkeys that need to be included?\n",
      "+ How are the timestamps formatted? Is the only timestamp the the last time the registry key was modified or are there other timestamps embedded in the content of one of the keys/values?\n",
      "+ Are there any binary values that need to be intepreted?\n",
      "+ Are there any keys/values that need some decoding?\n",
      "+ What does the registry's key last written time mean? What does it signify.\n",
      "\n",
      "Remember that we are not about to submit this plugin in for review, since it is already checked in, this is only for demonstration purposes, please refer to the [plaso roadmap](https://docs.google.com/a/kiddaland.net/spreadsheet/ccc?key=0An0H7z4S52FldFFuQ2tHRDRsaEdzeDRBVXN5SXNfRnc#gid=0) for open parser/plugin assignments (or add your own).\n",
      "\n",
      "Before we start looking at the code we need to download the registry hive to a temporary location so that we can use it for the remainder of this codelab. For this you need an Internet connection."
     ]
    },
    {
     "cell_type": "code",
     "collapsed": false,
     "input": [
      "# Import a library to make the HTTP connection.\n",
      "import urllib2\n",
      "\n",
      "# Import a library so that we can create a temporary file.\n",
      "import tempfile\n",
      "\n",
      "# The URL to the SYSTEM hive we are about to use for our testing.\n",
      "url = u'https://github.com/log2timeline/plaso/raw/master/test_data/SYSTEM'\n",
      "\n",
      "# Download the file.\n",
      "response = urllib2.urlopen(url)\n",
      "data = response.read()\n",
      "\n",
      "# Save it in a temporary file (we don't want it to be deleted).\n",
      "test_file = tempfile.NamedTemporaryFile(delete=False)\n",
      "\n",
      "# Save the name since that is what we will refer to later in the code.\n",
      "test_registry_file_name = test_file.name\n",
      "\n",
      "# Write data to it.\n",
      "test_file.write(data)\n",
      "\n",
      "# Close the file.\n",
      "test_file.close()\n",
      "\n",
      "# Print a confirmation.\n",
      "print u'File downloaded and saved'"
     ],
     "language": "python",
     "metadata": {},
     "outputs": []
    },
    {
     "cell_type": "markdown",
     "metadata": {},
     "source": [
      "### The header\n",
      "\n",
      "First things first, every file checked into the project needs a header. That header contains among other copyright information as well as import statements.\n",
      "\n",
      "The first line after the copyright statement is the doc string that needs to be changed, it should not be longer than 80 characters in width. If you need more\n",
      "than a single line to describe the parser please still only use max 80 characters as the first line, ending with a dot. Then you can create a more detailed\n",
      "description two lines down (an example of that can be seen below).\n",
      "\n",
      "The import order is defined in the [style guide](http://google-styleguide.googlecode.com/svn/trunk/pyguide.html?showone=Imports_formatting#Imports_formatting):\n",
      "\n",
      "    Imports are always put at the top of the file, just after any module comments and doc strings and before module globals and constants. \n",
      "    Imports should be grouped with the order being most generic to least generic:\n",
      "\n",
      "    + standard library imports\n",
      "    + third-party imports\n",
      "    + application-specific imports\n",
      "\n",
      "    Within each grouping, imports should be sorted lexicographically, ignoring case, according to each module's full package path.\n"
     ]
    },
    {
     "cell_type": "code",
     "collapsed": false,
     "input": [
      "#!/usr/bin/python\n",
      "#\n",
      "# Copyright 2014 The Plaso Project Authors.\n",
      "# Please see the AUTHORS file for details on individual authors.\n",
      "#\n",
      "# Licensed under the Apache License, Version 2.0 (the 'License');\n",
      "# you may not use this file except in compliance with the License.\n",
      "# You may obtain a copy of the License at\n",
      "#\n",
      "#    http://www.apache.org/licenses/LICENSE-2.0\n",
      "#\n",
      "# Unless required by applicable law or agreed to in writing, software\n",
      "# distributed under the License is distributed on an \"AS IS\" BASIS,\n",
      "# WITHOUT WARRANTIES OR CONDITIONS OF ANY KIND, either express or implied.\n",
      "# See the License for the specific language governing permissions and\n",
      "# limitations under the License.\n",
      "\"\"\"Plug-in to collect the Less Frequently Used Keys.\n",
      "\n",
      "This demonstrates how a longer line should be broken up.\"\"\"\n",
      "\n",
      "import logging\n",
      "\n",
      "# We need to be able to create new event objects, specifically\n",
      "# for a Windows registry event we would like to get access to the \n",
      "# WindowsRegistryEvent EventObject.\n",
      "from plaso.events import windows_events\n",
      "# Import the registry plugin interface.\n",
      "from plaso.parsers.winreg_plugins import interface"
     ],
     "language": "python",
     "metadata": {},
     "outputs": []
    },
    {
     "cell_type": "markdown",
     "metadata": {},
     "source": [
      "  \n",
      "### The Plugin Class\n",
      "\n",
      "We know need to know what kind of plugin you are trying to implement. The [\"Write A Plugin\"](http://plaso.kiddaland.net/developer/parsers/write-a-plugin) section at the plaso documentation site does go slightly into the generic plugin interface and what needs to be done in order to write a plugin. But for now we know we are trying to parse a specific Windows Registry key using a registry plugin. If we look at the [registry plugin section](http://plaso.kiddaland.net/developer/parsers/write-a-plugin/registry) we notice that there are two different types of plugins available:\n",
      "\n",
      "+ **KeyPlugin**: Used when we are parsing a specific Windows Registry key (path to the registry key is used).\n",
      "+ **ValuePlugin**: When the plugin works against any Windows Registry key that has specific sets of values.\n",
      "\n",
      "Which plugin is best for our example of a BootExecute Value from the Session Manager key?\n",
      "\n",
      "What key is that, well it is in the current control set of the SYSTEM hive, inside the key: \\CURRENT_CONTROL\\Control\\Session Manager. And since we do have a fixed key it makes sense to use the key based plugin to parse it. Let's look at some of the other things we need to consider.\n",
      "\n",
      "We need to examine the registry key itself and its values. We need the file and some way of examining the content. Let's open up the registry file for future use."
     ]
    },
    {
     "cell_type": "code",
     "collapsed": false,
     "input": [
      "# Import necessary libraries from dfVFS so we can open up the file.\n",
      "from dfvfs.lib import definitions\n",
      "from dfvfs.path import factory as path_spec_factory\n",
      "from dfvfs.resolver import resolver as path_spec_resolver\n",
      "\n",
      "# Import the Windows Registry cache library so we can calculate\n",
      "# the current control set among other things.\n",
      "from plaso.winreg import cache\n",
      "# Import the winregistry library so we can open up the registry hive.\n",
      "from plaso.winreg import winregistry\n",
      "\n",
      "\n",
      "# Find the file and get a handle to it.\n",
      "path_spec = path_spec_factory.Factory.NewPathSpec(\n",
      "    definitions.TYPE_INDICATOR_OS, location=test_registry_file_name)\n",
      "file_entry = path_spec_resolver.Resolver.OpenFileEntry(path_spec)\n",
      "\n",
      "# Open the registry file.\n",
      "registry = winregistry.WinRegistry(winregistry.WinRegistry.BACKEND_PYREGF)\n",
      "winreg_file = registry.OpenFile(file_entry, codepage='cp1252')\n",
      "\n",
      "# Build a registry cache.\n",
      "# This will among others calculate the current control set.\n",
      "registry_cache = cache.WinRegistryCache()\n",
      "registry_cache.BuildCache(winreg_file, 'SYSTEM')"
     ],
     "language": "python",
     "metadata": {},
     "outputs": []
    },
    {
     "cell_type": "markdown",
     "metadata": {},
     "source": [
      "Now we've got the registry file opened for future use and we can start exploring the registry. Since the key is in the current control set we may want to know which control set that is. We already built up the registry cache, which should automatically detect that, let's see what it found."
     ]
    },
    {
     "cell_type": "code",
     "collapsed": false,
     "input": [
      "print registry_cache.attributes.get('current_control_set', 'Not found')"
     ],
     "language": "python",
     "metadata": {},
     "outputs": []
    },
    {
     "cell_type": "markdown",
     "metadata": {},
     "source": [
      "As you can see the registry cache detected the current control set as \"*ControlSet001*\". We can manually verify that ourselves:"
     ]
    },
    {
     "cell_type": "code",
     "collapsed": false,
     "input": [
      "select_key = winreg_file.GetKeyByPath(r'\\Select')\n",
      "current_value = select_key.GetValue('Current')\n",
      "\n",
      "print u'ControlSet{:03d}'.format(current_value.data)"
     ],
     "language": "python",
     "metadata": {},
     "outputs": []
    },
    {
     "cell_type": "markdown",
     "metadata": {},
     "source": [
      "We've manually verified the current control set, so the key that we are interested in is therefore: \\ControlSet001\\Control\\Session Manager\n",
      "\n",
      "Let's open that up and look at the values of the key."
     ]
    },
    {
     "cell_type": "code",
     "collapsed": false,
     "input": [
      "lfu_key = winreg_file.GetKeyByPath('\\\\ControlSet001\\\\Control\\\\Session Manager')\n",
      "\n",
      "print u'Key has {} values.'.format(lfu_key.number_of_values)\n",
      "print u'Key has {} subkeys.'.format(lfu_key.number_of_subkeys)\n",
      "\n",
      "print u'Values:'\n",
      "for value in lfu_key.GetValues():\n",
      "    print u'  {} = {}'.format(value.name, value.data)\n",
      "\n",
      "print u'*'*80\n",
      "print u'Sub keys:'\n",
      "for sub_key in lfu_key.GetSubkeys():\n",
      "    print u'  {} [{} keys, {} values]'.format(sub_key.path, sub_key.number_of_values, sub_key.number_of_subkeys)"
     ],
     "language": "python",
     "metadata": {},
     "outputs": []
    },
    {
     "cell_type": "markdown",
     "metadata": {},
     "source": [
      "There is a value there called **BootExecute**, and that is the value that we are interested in, see [this Windows documentation](http://technet.microsoft.com/en-us/library/cc963230.aspx).\n",
      "\n",
      "We don't need any subkeys for this particular registry plugin. There is no timestamp stored in the data set; the only timestamp we are interested in is the last written time of the registry key itself.\n",
      "\n",
      "We should be ready to start writing the plugin itself, so we can start going over the actual Windows Registry plugin interface and what needs to be implemented.\n",
      "\n",
      "*One important disclaimer, since we are taking an already checked in plugin to use as an example, to avoid all namespace collitions we are appending the word \"Foo\" or \"foo\" to many of the class names and other fields.*"
     ]
    },
    {
     "cell_type": "markdown",
     "metadata": {},
     "source": [
      "#### Important Class Constants\n",
      "\n",
      "In plaso terms as soon as we've got more than a single \"parser\" that attempts to parse a particular file format we convert that to a plugin system. Then a very generic parser can be created that takes care of all file format parsing, leaving the plugins to do minimal work, just defining few class constants that are used to match the particular file or file segments to what the plugin is designed to parse and then a function to process the data collected.\n",
      "\n",
      "For Windows Registry KeyPlugin we need to define the following class attributes:\n",
      "\n",
      "+ **NAME**: Name of the plugin, this should be short and concise but still descriptive. Naming convention for Windows Registry plugins is \"winreg_PLUGIN\".\n",
      "+ **REG_KEYS**: This is a list of all registry keys this plugin is designed to parse. The plugin does not need to define software redirects (like Wow6432, that's done automatically).\n",
      "+ **REG_TYPE**: Defining which registry hive this plugin is written for, values are NTUSER, SAM, SOFTWARE, SYSTEM, etc. If the plugin should work against every registry hive, then it should have the value of 'any'.\n",
      "+ **URLS**: This is a list of URLs that can be used to read additional information about this particular registry key. This could be a link to Technet or some blogs discussing how to interpret the values (or both).\n",
      "\n",
      "For our plugin's purposes we have these values:\n",
      "\n",
      "    NAME = 'winreg_boot_execute'\n",
      "\n",
      "    REG_KEYS = [u'\\\\{current_control_set}\\\\Control\\\\Session Manager']\n",
      "    REG_TYPE = 'SYSTEM'\n",
      "    URLS = ['http://technet.microsoft.com/en-us/library/cc963230.aspx']\n",
      "\n",
      "One thing to note is the fact that this registry plugin depends on the current control set. This is a key that may differ between registry hives. If you remember the registry cache code that we executed in one of the previous steps... that registry cache actually detected the current control set, and it saved it as \"current_control_set\". This is one of the attributes we can use (just put the attribute name inside curly brackets{} ).\n",
      "\n",
      "Let's look at other attributes calculated by the registry cache object."
     ]
    },
    {
     "cell_type": "code",
     "collapsed": false,
     "input": [
      "for class_name, cache_class in cache.WinRegCachePlugin.classes.items():\n",
      "    print '*'*80\n",
      "    print class_name\n",
      "    print '*'*80\n",
      "    print PrintClassHelp(cache_class)\n",
      "    print '-'*80"
     ],
     "language": "python",
     "metadata": {},
     "outputs": []
    },
    {
     "cell_type": "markdown",
     "metadata": {},
     "source": [
      "####  GetEntries\n",
      "\n",
      "The underlying parser takes care of opening up the registry hive, reading in every registry key there is and then comparing that key to the available registry plugins. The parser uses the REG_KEYS list value to determine if a registry plugin should be used against a particular key. Once a plugin is found the GetEntries() function of the plugin is called. The purpose of this function is to extract all potential event objects available from that registry key and yield them.\n",
      "\n",
      "There may be several objects passed to the GetEntries function, objects that depend upon each plugin implementation. One of which is a general purpose plugin cache that is not used in the Windows registry plugins. Some plugins may define a cache object that is passed to them via this function.\n",
      "\n",
      "Let's examine the Windows Registry class plugin implementation:"
     ]
    },
    {
     "cell_type": "code",
     "collapsed": false,
     "input": [
      "PrintClassHelp(interface.RegistryPlugin, 'GetEntries')"
     ],
     "language": "python",
     "metadata": {},
     "outputs": []
    },
    {
     "cell_type": "markdown",
     "metadata": {},
     "source": [
      "By convention, a method named \"GetEntries\" is defined by each for each plugin implementation (Registry, SQLite, Bencode etc.) as the method called to invoke a plugin against a particular file. To explain the arguments in a little more detail:\n",
      "\n",
      "The parser_context object is an object passed to each plugin (and parser) that provides access to shared Plaso functionality, like the event output queue, system knowledge base and error signalling functionality. This part of Plaso is undergoing extensive development at the moment, and more features will be added in near future.\n",
      "\n",
      "The object called \"key\", is the registry key the plugin should attempt to parse, the file_entry object is a reference to the registry file that contains the key being parsed, the codepage is the ASCII codepage that should be used to interpret the key data, and finally we need to catch other attributes that may be sent to the plugin but we are not using, thus the **\\*\\*unused_kwargs**.\n",
      "\n",
      "The proper definition of the GetEntries function for a Windows registry plugin is therefore:\n",
      "\n",
      "    def GetEntries(self, parser_context, key=None, registry_type=None, **unused_kwargs):\n",
      "\n",
      "\n"
     ]
    },
    {
     "cell_type": "code",
     "collapsed": false,
     "input": [
      "from plaso.parsers import plugins\n",
      "\n",
      "PrintClassHelp(plugins.BasePlugin, 'GetEntries')"
     ],
     "language": "python",
     "metadata": {},
     "outputs": []
    },
    {
     "cell_type": "markdown",
     "metadata": {},
     "source": [
      "#### Timestamp\n",
      "\n",
      "When dealing with the Windows Registry the most common timestamp is the Windows FILETIME timestamp. To translate that into the internal microseconds since Epoch that Plaso uses we use the timelib library, and more specifically the **timelib.Timestamp.FromFiletime(file_time)**.\n",
      "\n",
      "However, there may be other timestamps embedded in a key value. Let's examine what other options we've got."
     ]
    },
    {
     "cell_type": "code",
     "collapsed": false,
     "input": [
      "# Import the library we are about to inspect.\n",
      "from plaso.lib import timelib\n",
      "\n",
      "# You can easily change the name of the class here if you want to explore a different\n",
      "# class and it's members.\n",
      "PrintClassHelp(timelib.Timestamp)"
     ],
     "language": "python",
     "metadata": {},
     "outputs": []
    },
    {
     "cell_type": "markdown",
     "metadata": {},
     "source": [
      "### Event Object - WindowsRegistryEvent\n",
      "\n",
      "Each timestamped event is described as an EventObject. It's almost always easier to create a convenience class to make it easier to create an EventObject specific to the events that your plugin or parser is producing. However since we are writing a Windows Registry plugin we already have a convenience EventObject that we can take advantage of, called WindowsRegistryEvent.\n",
      "\n",
      "Let's examine the WindowsRegistryEvent:"
     ]
    },
    {
     "cell_type": "code",
     "collapsed": false,
     "input": [
      "from plaso.events import windows_events\n",
      "\n",
      "PrintClassHelp(windows_events.WindowsRegistryEvent, '__init__')"
     ],
     "language": "python",
     "metadata": {},
     "outputs": []
    },
    {
     "cell_type": "markdown",
     "metadata": {},
     "source": [
      "The event object is pretty simple really. We need to set the following arguments:\n",
      "\n",
      "+ **key_name**: The full path to the registry key, stored in the reg_key.path value.\n",
      "+ **value_dict**: This is a dict object that contains all the text that we would like to be contained in the message string. By default the formatter prints this out as \"key_1 = value_1, key_2 = value_2, etc\" however this can be easily changed so the registry event is presented differently.\n",
      "+ **timestamp**: The timestamp, either of the registry key itself or extracted from the value itself.\n",
      "+ **usage**: This is the description of the meaning of the timestamp, by default this is LAST_WRITTEN.\n",
      "+ **offset**: An offset in bytes into the registry file where this value is, typically this value does not need to be filled in.\n",
      "+ **registry_type**: The type of the registry file that the event was extracted from. Almost always, the right thing to do is to parser along the registry_type that GetEntries() was called with, as described above.\n",
      "+ **urls**: A list of URLs that provide more information or context about the event.\n",
      "+ **source_append**: By default the source attribute is \"REGISTRY_TYPE key\", eg: \"SOFTWARE key\". However some plugins may want to add additional information to the source, further describing it, eg: \"NTUSER key UserAssist\" or something like that. This value is designed for that.\n",
      "\n",
      "Typically a plugin only needs to worry about filling in these values:\n",
      "+ key\n",
      "+ value_dict\n",
      "+ timestamp"
     ]
    },
    {
     "cell_type": "markdown",
     "metadata": {},
     "source": [
      "And that's it really, we only need to worry about filling in the values for the class constants and then fill in the GetEntries function.\n",
      "\n",
      "Here is the entire code for the BootExecutePlugin:"
     ]
    },
    {
     "cell_type": "code",
     "collapsed": false,
     "input": [
      "class BootExecutePluginFoo(interface.KeyPlugin):\n",
      "  \"\"\"Plug-in to collect the BootExecute Value from the Session Manager key.\"\"\"\n",
      "\n",
      "  # Change the name to \"foo\" to distinguish it from the checked in version.\n",
      "  NAME = 'winreg_boot_execute_foo'\n",
      "  DESCRIPTION = u'Parser for Boot Execution Registry data.'\n",
      "\n",
      "  # Define the path to the registry key (notice the use of the current_control_set).\n",
      "  # Here we define a list of all the registry keys this plugin supports, since registry plugins\n",
      "  # sometimes support more than a single key. In this particular case we are only interested in\n",
      "  # a single key, so we define a single entry in the list.\n",
      "  REG_KEYS = [u'\\\\{current_control_set}\\\\Control\\\\Session Manager']\n",
      "  # REG_KEYS = [u'\\\\ControlSet001\\\\Control\\\\Session Manager']\n",
      "    \n",
      "  # This is only designed to parse a registry key from the SYSTEM hive.\n",
      "  REG_TYPE = 'SYSTEM'\n",
      "    \n",
      "  URLS = ['http://technet.microsoft.com/en-us/library/cc963230.aspx']\n",
      "\n",
      "  def GetEntries(\n",
      "      self, parser_context, file_entry=None, key=None, registry_type=None,\n",
      "      **unused_kwargs):\n",
      "    \"\"\"Gather the BootExecute Value, compare to default, return event. \n",
      "    \n",
      "    The rest of the values in the Session Manager key are in a separate event.\n",
      "\n",
      "    Args:\n",
      "      parser_context: A parser context object (instance of ParserContext).\n",
      "      file_entry: optional file entry object (instance of dfvfs.FileEntry).\n",
      "                  The default is None.\n",
      "      key: Optional Registry key (instance of winreg.WinRegKey).\n",
      "           The default is None.\n",
      "      registry_type: Optional Registry type string. The default is None.\n",
      "    \"\"\"\n",
      "    text_dict = {}\n",
      "    for value in key.GetValues():\n",
      "      if value.name == 'BootExecute':\n",
      "        # MSDN: claims that the data type of this value is REG_BINARY\n",
      "        # although REG_MULTI_SZ has been observed to be used as well.\n",
      "        if value.DataIsString():\n",
      "          value_string = value.data\n",
      "        elif value.DataIsMultiString():\n",
      "          value_string = u''.join(value.data)\n",
      "        elif value.DataIsBinaryData():\n",
      "          value_string = value.data\n",
      "        else:\n",
      "          value_string = u''\n",
      "          error_string = (\n",
      "              u'Key: {0:s}, value: {1:s}: unuspported value data type: '\n",
      "              u'{2:s}.').format(key.path, value.name, value.data_type_string)\n",
      "          # Output an error for Plaso to store.\n",
      "          parser_context.ProduceParseError(\n",
      "              self.NAME, error_string, file_entry=file_entry)\n",
      "\n",
      "        value_dict = {'BootExecute': value_string}\n",
      "        event_object = windows_events.WindowsRegistryEvent(\n",
      "            key.last_written_timestamp, key.path, value_dict, offset=key.offset,\n",
      "            registry_type=registry_type, urls=self.URLS)\n",
      "        parser_context.ProduceEvent(event_object, plugin_name=self.NAME)\n",
      "\n",
      "      else:\n",
      "        text_dict[value.name] = value.data\n",
      "    \n",
      "    event_object = windows_events.WindowsRegistryEvent(\n",
      "        key.last_written_timestamp, key.path, text_dict, offset=key.offset,\n",
      "        registry_type=registry_type, urls=self.URLS)\n",
      "    parser_context.ProduceEvent(event_object, plugin_name=self.NAME)\n",
      "  \n",
      "from plaso.parsers import winreg\n",
      "winreg.WinRegistryParser.RegisterPlugin(BootExecutePluginFoo)"
     ],
     "language": "python",
     "metadata": {},
     "outputs": []
    },
    {
     "cell_type": "markdown",
     "metadata": {},
     "source": [
      "[**optional code segment**] If you make some modifications to the class above you need to first de-register it before you can register it again. To be able to de-register it use the code block below:"
     ]
    },
    {
     "cell_type": "code",
     "collapsed": false,
     "input": [
      "# OPTIONAL CODE BLOCK !! DON'T EXECUTE UNLESS YOU HAVE MADE SOME \n",
      "# CHANGES TO THE PARSER CODE AND WANT TO REGISTER IT AGAIN!!!\n",
      "winreg.WinRegistryParser.DeregisterPlugin(BootExecutePluginFoo)"
     ],
     "language": "python",
     "metadata": {},
     "outputs": []
    },
    {
     "cell_type": "markdown",
     "metadata": {},
     "source": [
      "### Writing the Formatter\n",
      "\n",
      "Have you ever noticed the message string when you print out an event?\n"
     ]
    },
    {
     "cell_type": "code",
     "collapsed": false,
     "input": [
      "import datetime\n",
      "\n",
      "from plaso.formatters import manager as formatters_manager\n",
      "\n",
      "# Import the Windows Registry formatter.\n",
      "from plaso.formatters import winreg\n",
      "\n",
      "datetime_now = datetime.datetime.utcnow()\n",
      "\n",
      "# Let's create a dummy event.\n",
      "demo_event = windows_events.WindowsRegistryEvent(\n",
      "    timelib.Timestamp.FromPythonDatetime(datetime_now),\n",
      "    '\\\\dummy\\\\path\\\\key',\n",
      "    {'foo': 'bar', 'stuff': 'more stuff'})\n",
      "\n",
      "# And print the string.\n",
      "print demo_event.GetString()\n",
      "\n",
      "# And to re-iterate, let's print the message string.\n",
      "message_string, _ = formatters_manager.EventFormatterManager.GetMessageStrings(demo_event)\n",
      "\n",
      "print u'MESSAGE STRING: {}'.format(message_string)"
     ],
     "language": "python",
     "metadata": {},
     "outputs": []
    },
    {
     "cell_type": "markdown",
     "metadata": {},
     "source": [
      "Did you notice that in the event above you never really told it how to construct this message string? How does the tool then know how to print it out?\n",
      "\n",
      "That is the purpose of the formatter. The formatter is a simple class that defines what attributes to use and how they are put together to form this message string.\n",
      "\n",
      "You're going to need one for any parser or plugin you create (or more importantly any data type that you might use).\n",
      "\n",
      "The way the formatter works is that it looks at the data_type attribute in the EventObject and matches that to the formatters DATA_TYPE attribute. If they are the same, then the formatter proceeds to processing that EventObject and construct the messsage string.\n",
      "\n",
      "Formatters go in separate files under plaso/formatters.  Don't forget the copyright at the top!  \n",
      "\n",
      "For the most part, you're just setting some values with formats.  You'll want to set up structures that you want to see in your timeline.\n",
      "\n",
      "Most importantly (to re-iterate), the **DATA_TYPE** must match the data_type attribute from the EventObject from the last section.  Watch out for typos here -- there is no warning.\n",
      "\n",
      "There are two formatters that you can use, the simple **EventFormatter** and the **ConditionalEventFormatter**. The former should only be used if you are absolutely sure all the attributes mentioned there are going to be set for each and every event object created. That means that for the vast majority of the formatters the ConditionalEventFormatter should be the formatter of choice.\n",
      "\n",
      "There are two class constants that should always be set, irrelevant of the choice of formatters:\n",
      "\n",
      "+ **SOURCE_SHORT**: This should match one of the common sources, eg. LOG, WEBHIST, etc. This should closely correspond to the TLN format by H. Carvey as a short description of the source, almost like a short name for the category of the source.\n",
      "+ **SOURCE_LONG**: Since the category itself is not sufficient to describe the source we have an extra field called SOURCE_LONG that further defines that, for instance a browser history extracted from Chrome browser will have the source short set to WEBHIST, indicating that this comes from a web history, but the SOURCE_LONG contains the text \"Chrome History\", setting that apart from other browsers.\n",
      "\n",
      "For the simple EventFormatter two class constants have to be set (or at least one):\n",
      "\n",
      "+ **FORMAT_STRING**: An unicode string that contains formatting information, place all attribute names in {}. This is just a typical Python formatting string, so all typical [rules](http://docs.python.org/2/library/string.html#formatspec) apply. Timestamp, filename/path, username, hostname, etc information is presented in other fields and should not be a part of the message string.\n",
      "+ **FORMAT_STRING_SHORT**: This is only needed when you think that the resulting message string may exceed 80 characters in with and you don't want that to be shorten, as in you don't want the short message string to just contain the first 77 characters of the longer version you can construct your own condensed one.\n",
      "\n",
      "If you use the conditional formatter you need to define the following class constants:\n",
      "\n",
      "+ **FORMAT_STRING_PIECES**: The same as the FORMAT_STRING, except that this is a list and only one attribute name should be defined per entry. If an attribute is not set in the event object then that particular entry in the list will be omitted.\n",
      "+ **FORMAT_STRING_SHORT_PIECES**: Same as the FORMAT_STRING_SHORT except in the same format as FORMAT_STRING_PIECES, that is as a list.\n",
      "\n",
      "\n",
      "**HOWEVER** for our purposes we don't need to write a formatter since we are using an already existing event object, the WindowsRegistryEvent, and for that event object there is an already existing event formatter."
     ]
    },
    {
     "cell_type": "code",
     "collapsed": false,
     "input": [
      "from plaso.formatters import winreg as winreg_formatter\n",
      "\n",
      "print PrintClassHelp(winreg_formatter.WinRegistryGenericFormatter)"
     ],
     "language": "python",
     "metadata": {},
     "outputs": []
    },
    {
     "cell_type": "markdown",
     "metadata": {},
     "source": [
      "## Test The Plugin\n",
      "\n",
      "It is very important to test the plugin, to see if it can at least handle our sample dataset.\n"
     ]
    },
    {
     "cell_type": "markdown",
     "metadata": {},
     "source": [
      "### Parse the Key Using The Plugin\n",
      "\n",
      "We can use the code below to test our parsing, to see if the plugin is capable of parsing registry key we provided it with."
     ]
    },
    {
     "cell_type": "code",
     "collapsed": false,
     "input": [
      "from plaso.artifacts import knowledge_base\n",
      "from plaso.lib import errors\n",
      "from plaso.lib import queue\n",
      "from plaso.parsers import context\n",
      "from plaso.parsers import test_lib\n",
      "\n",
      "\n",
      "# Create the plugin object, using the registry cache\n",
      "# we made earlier.\n",
      "test_plugin = BootExecutePluginFoo(reg_cache=registry_cache)\n",
      "\n",
      "# Create a parser context object to handle key input/event output.\n",
      "event_queue = queue.SingleThreadedQueue()\n",
      "event_queue_producer = queue.EventObjectQueueProducer(event_queue)\n",
      "parse_error_queue = queue.SingleThreadedQueue()\n",
      "parse_error_queue_producer = queue.ParseErrorQueueProducer(\n",
      "        parse_error_queue)\n",
      "knowledge_base_object = knowledge_base.KnowledgeBase()\n",
      "context_obj = context.ParserContext(\n",
      "        event_queue_producer, parse_error_queue_producer,\n",
      "        knowledge_base_object)\n",
      "\n",
      "print u'Parsing key using: {}'.format(test_plugin.plugin_name)\n",
      "\n",
      "# We already have the registry key extracted from a previous step.\n",
      "# We can just pass that to the plugin.\n",
      "print lfu_key.path\n",
      "test_plugin.Process(parser_context=context_obj, key=lfu_key)\n",
      "\n",
      "# Set up a consumer to read events emited by our plugin.\n",
      "event_queue_consumer = test_lib.TestEventObjectQueueConsumer(event_queue)\n",
      "# Read all the events.\n",
      "event_queue_consumer.ConsumeEventObjects()\n",
      "event_objects = event_queue_consumer.event_objects\n",
      "\n",
      "print u'Processing of registry key is done.'\n",
      "print u'Able to extract: {} events from the key.'.format(len(event_objects))"
     ],
     "language": "python",
     "metadata": {},
     "outputs": []
    },
    {
     "cell_type": "markdown",
     "metadata": {},
     "source": [
      "Let's print out the event objects that we managed to extract from this plugin."
     ]
    },
    {
     "cell_type": "code",
     "collapsed": false,
     "input": [
      "# Print out the content of the extracted events.\n",
      "for index, event_object in enumerate(event_objects):\n",
      "  print u'*' * 80\n",
      "  print u'    EVENT NUMBER: {}'.format(index)\n",
      "  print u'-'*80\n",
      "  print u'Event:'\n",
      "  print event_object.GetString()\n",
      "  print u''\n"
     ],
     "language": "python",
     "metadata": {},
     "outputs": []
    },
    {
     "cell_type": "markdown",
     "metadata": {},
     "source": [
      "### Writing the Tests\n",
      "\n",
      "Unit tests are designed to make sure your code is doing what you intended it to do, as well as to let other people know when their refactor broke your code.  This will also assist you when you are writing your code by doing a sanity check on your parser to make sure it works the way you expect it to.\n",
      "\n",
      "The test go in their own file, in this case the file plaso/winreg_plugins/lfu_test.py.\n",
      "\n",
      "For the tests to work the formatter needs to imported. However since the formatter is typically named the same name as the actual parser (not in the case of a Windows registry plugin) we may need to import the formatter as a separate name. And since you don't actually use the formatter directly in the file you end up with needing a pylint statement to suppress error messages during linting.  The other imports you'll see through out this code lab. But since everything is in the same namespace here we don't really need to import the formatter, but this is typically added:\n",
      "\n",
      "    # pylint: disable-msg=unused-import\n",
      "    from plaso.formatters import winreg as winreg_formatter\n",
      "\n",
      "The pylint statement needs to be there to make sure that pylint does not complain about an unused import since we are not directly using the formatter, we are just importing it so that it gets registered (othwerise it will not work).\n"
     ]
    },
    {
     "cell_type": "markdown",
     "metadata": {},
     "source": [
      "#### TestCase and setUp()\n",
      "\n",
      "For a plugin test we will use the appropriate plugin test library, in this case the plaso/winreg_plugins/test_lib (or test_lib.RegistryPluginTestCase).  This is a simple class that inherits from the plaso parser test lib (which in turn inherits from the unittest.TestCase class), and adds a few functions to make it easier to test Windows registry plugins. You may want to add a setUp() function to open the sample file and set any other variables you expect in the background, like pre-processor results.  Preprocess will discover system variables such as Timezone and CurrentControlSet.  You can create a local preprocess object to mimic what you expect in a global one.\n",
      "\n",
      "For a Windows Registry plugin you typically need to open the registry hive using self._GetTestFilePath, define the registry key and use the self._GetKeyFromFile to get the key.\n",
      "\n",
      "In the lfu_test we are however working with a mock registry key, so in that case the registry cache needs to be pre-built and the key created.\n",
      "\n",
      "Let's first look at what functions are available to us in the registry test library."
     ]
    },
    {
     "cell_type": "code",
     "collapsed": false,
     "input": [
      "from plaso.parsers.winreg_plugins import test_lib\n",
      "\n",
      "PrintClassHelp(test_lib.RegistryPluginTestCase)"
     ],
     "language": "python",
     "metadata": {},
     "outputs": []
    },
    {
     "cell_type": "markdown",
     "metadata": {},
     "source": [
      "Write the setUp() function for this class definition:\n",
      "\n",
      "    class TestBootExecutePlugin(test_lib.RegistryPluginTestCase):\n",
      "      \"\"\"Tests for the LFU BootExecute Windows Registry plugin.\"\"\"\n",
      "\n",
      "      def setUp(self):\n",
      "\n",
      "While we're setting up the boilerplate of the test, let's add the main function to the bottom of the file.  Then we can run the test on its own.\n",
      "\n",
      "    if __name__ == '__main__':\n",
      "     unittest.main()\n",
      "\n",
      "### Writing the Test\n",
      "\n",
      "The outline of the main test is to create and run the plugin, then check that the plugin results are correct.  You should check a variety of attributes in one row and something about the extracted events in general.\n",
      "\n",
      "The test needs to start with the word \"test\".  Let's use testProcess() (since that is what we are testing, the Process function fo the plugin).  The assertions should include:\n",
      "\n",
      "+ How many entries were created?\n",
      "+ For entry[1], is the timestame, username, and full_path correct?\n",
      "+ For entry[1], are the message strings formatted correctly?\n"
     ]
    },
    {
     "cell_type": "code",
     "collapsed": false,
     "input": [
      "# from plaso.lib import eventdata\n",
      "from plaso.winreg import test_lib as winreg_test_lib\n",
      "\n",
      "\n",
      "class TestBootExecutePluginFoo(test_lib.RegistryPluginTestCase):\n",
      "  \"\"\"Tests for the LFU BootExecute Windows Registry plugin.\"\"\"\n",
      "\n",
      "  def setUp(self):\n",
      "    \"\"\"Sets up the needed objects used throughout the test.\"\"\"\n",
      "    registry_cache = cache.WinRegistryCache()\n",
      "    registry_cache.attributes['current_control_set'] = 'ControlSet001'\n",
      "    # This would have to be changed to reflect the actual plugin, but since we\n",
      "    # are in the same namespace we can do this.\n",
      "    self._plugin = BootExecutePluginFoo(reg_cache=registry_cache)\n",
      "\n",
      "  def testProcess(self):\n",
      "    \"\"\"Tests the Process function.\"\"\"\n",
      "    # In tests we put in the full path (as in not use the current_control_set\n",
      "    # attribute).\n",
      "    key_path = u'\\\\ControlSet001\\\\Control\\\\Session Manager'\n",
      "    values = []\n",
      "\n",
      "    # Here we are creating a test key, a fake registry key instead of reading\n",
      "    # one from an actual registry file (which is preferred).\n",
      "    values.append(winreg_test_lib.TestRegValue(\n",
      "        'BootExecute', 'autocheck autochk *\\x00'.encode('utf_16_le'), 7, 123))\n",
      "    values.append(winreg_test_lib.TestRegValue(\n",
      "        'CriticalSectionTimeout', '2592000'.encode('utf_16_le'), 1, 153))\n",
      "    values.append(winreg_test_lib.TestRegValue(\n",
      "        'ExcludeFromKnownDlls', '\\x00'.encode('utf_16_le'), 7, 163))\n",
      "    values.append(winreg_test_lib.TestRegValue(\n",
      "        'GlobalFlag', '0'.encode('utf_16_le'), 1, 173))\n",
      "    values.append(winreg_test_lib.TestRegValue(\n",
      "        'HeapDeCommitFreeBlockThreshold', '0'.encode('utf_16_le'), 1, 183))\n",
      "    values.append(winreg_test_lib.TestRegValue(\n",
      "        'HeapDeCommitTotalFreeThreshold', '0'.encode('utf_16_le') , 1, 203))\n",
      "    values.append(winreg_test_lib.TestRegValue(\n",
      "        'HeapSegmentCommit', '0'.encode('utf_16_le'), 1, 213))\n",
      "    values.append(winreg_test_lib.TestRegValue(\n",
      "        'HeapSegmentReserve', '0'.encode('utf_16_le'), 1, 223))\n",
      "    values.append(winreg_test_lib.TestRegValue(\n",
      "        'NumberOfInitialSessions', '2'.encode('utf_16_le'), 1, 243))\n",
      "\n",
      "    winreg_key = winreg_test_lib.TestRegKey(\n",
      "        key_path, 1346445929000000, values, 153)\n",
      "\n",
      "    event_queue_consumer = self._ParseKeyWithPlugin(self._plugin, winreg_key)\n",
      "    event_objects = self._GetEventObjectsFromQueue(event_queue_consumer)\n",
      "\n",
      "    self.assertEquals(len(event_objects), 2)\n",
      "\n",
      "    event_object = event_objects[0]\n",
      "\n",
      "    # Timestamp is: Fri, 31 Aug 2012 20:45:29 GMT\n",
      "    self.assertEquals(event_object.timestamp, 1346445929000000)\n",
      "\n",
      "    expected_string = (\n",
      "        u'[{0:s}] BootExecute: autocheck autochk *').format(key_path)\n",
      "\n",
      "    self._TestGetMessageStrings(event_object, expected_string, expected_string)\n",
      "\n",
      "    event_object = event_objects[1]\n",
      "\n",
      "    expected_msg = (\n",
      "        u'[{0:s}] '\n",
      "        u'CriticalSectionTimeout: 2592000 '\n",
      "        u'ExcludeFromKnownDlls: [] '\n",
      "        u'GlobalFlag: 0 '\n",
      "        u'HeapDeCommitFreeBlockThreshold: 0 '\n",
      "        u'HeapDeCommitTotalFreeThreshold: 0 '\n",
      "        u'HeapSegmentCommit: 0 '\n",
      "        u'HeapSegmentReserve: 0 '\n",
      "        u'NumberOfInitialSessions: 2').format(key_path)\n",
      "\n",
      "    expected_msg_short = (\n",
      "        u'[{0:s}] CriticalSectionTimeout: 2592000 Excl...').format(key_path)\n",
      "\n",
      "    self._TestGetMessageStrings(event_object, expected_msg, expected_msg_short)\n"
     ],
     "language": "python",
     "metadata": {},
     "outputs": []
    },
    {
     "cell_type": "markdown",
     "metadata": {},
     "source": [
      "### Running the Test\n",
      "\n",
      "How will you know what the format string should look like?  Well, it's time to run the code we have.  Typically the plugin needs to be \"compiled\" before the test will be able to import it, so we need to make sure the plugin gets picked up for compilation.\n",
      "\n",
      "Open plaso/parsers/winreg_plugins/\\_\\_init\\_\\_.py.  Add an import statement for your new plugin.  Save the file.\n",
      "\n",
      "Normally to run the tests you would either need to run:\n",
      "\n",
      "    python run_tests.py\n",
      "\n",
      "Or to compile:\n",
      "\n",
      "    python setup.py build && sudo python setup.py install\n",
      "\n",
      "And then you can run the test directly using:\n",
      "\n",
      "    python plaso/parsers/winreg_plugins/lfu_test.py\n",
      "\n",
      "Rinse and repeat as you write the tests.  If you change the parser, you need to recompile.  If you just change the test, you don't.\n",
      "\n",
      "**However** since we are writing this in our notebook we just need to make sure we've run all the previous code segments, and if you make changes, just re-run it.\n",
      "\n",
      "To run the test itself, execute the below code:"
     ]
    },
    {
     "cell_type": "code",
     "collapsed": false,
     "input": [
      "import unittest\n",
      "my_suite = unittest.TestSuite()\n",
      "my_suite.addTest(TestBootExecutePluginFoo('testProcess'))\n",
      "\n",
      "results = unittest.TextTestRunner(verbosity=3).run(my_suite)\n",
      "\n",
      "if results.errors:\n",
      "  print u'Errors came up while trying to run test.'\n",
      "  for error in results.errors:\n",
      "    if isinstance(error, basestring):\n",
      "      print error\n",
      "    else:\n",
      "      for sub_error in error:\n",
      "        print sub_error\n",
      "elif results.failures:\n",
      "  print u'Failures came up while trying to run test.'\n",
      "  for failure in results.failures:\n",
      "    if isinstance(failure, basestring):\n",
      "      print failure\n",
      "    else:\n",
      "      for sub_failure in failure:\n",
      "        print sub_failure\n",
      "else:\n",
      "  print u'All came out clean.'\n",
      "  print results"
     ],
     "language": "python",
     "metadata": {},
     "outputs": []
    },
    {
     "cell_type": "markdown",
     "metadata": {},
     "source": [
      "If all went well you should have a fully functioning plugin by now, ready to parse every boot execut registry key you may encounter.  \n",
      "\n",
      "You can start playing around and making changes to the plugin, to see what happens when changes are introduced, or continue and create a new plugin.\n"
     ]
    },
    {
     "cell_type": "markdown",
     "metadata": {},
     "source": [
      "## The Assignment"
     ]
    },
    {
     "cell_type": "markdown",
     "metadata": {},
     "source": [
      "Now we have gone through step-by-step how a simple Windows Registry plugin is created. It is time to take what we've learned so far and create a new plugin.  \n",
      "\n",
      "The remainder of the codelab revolves around writing a registry plugin that parses a simple registry key. Write the plugin and the unittest to successfully parse it."
     ]
    },
    {
     "cell_type": "markdown",
     "metadata": {},
     "source": [
      "Let's start with a simple registry key from our test registry hive."
     ]
    },
    {
     "cell_type": "code",
     "collapsed": false,
     "input": [
      "mystery_key_path = '\\\\ControlSet001\\\\Control\\\\ProductOptions'\n",
      "mystery_key = winreg_file.GetKeyByPath(mystery_key_path)\n",
      "\n",
      "print mystery_key"
     ],
     "language": "python",
     "metadata": {},
     "outputs": []
    },
    {
     "cell_type": "markdown",
     "metadata": {},
     "source": [
      "First thing first, what does this key mean? Let's read up:\n",
      "\n",
      " + http://support.microsoft.com/kb/152078\n",
      " + http://support.microsoft.com/kb/181412\n",
      " + http://technet.microsoft.com/en-us/library/cc782360%28WS.10%29.aspx\n",
      " "
     ]
    },
    {
     "cell_type": "markdown",
     "metadata": {},
     "source": [
      "Fill in all the details in the parser so that it successfully parses this file."
     ]
    },
    {
     "cell_type": "code",
     "collapsed": false,
     "input": [
      "class MysteryPlugin(interface.KeyPlugin):\n",
      "  \"\"\"Plug-in to collect something from something.\"\"\"\n",
      "\n",
      "  # Change the name to something more descriptive.\n",
      "  NAME = 'mystery_plugin'\n",
      "\n",
      "  # Change the description field.\n",
      "  DESCRIPTION = 'describe me'\n",
      "\n",
      "  # Define the path to the registry key (notice the use of the current_control_set).\n",
      "  REG_KEYS = [u'\\\\{current_control_set}\\\\Control\\\\ProductOptions']\n",
      "    \n",
      "  # This is only designed to parse a registry key from the SYSTEM hive.\n",
      "  REG_TYPE = 'SYSTEM'\n",
      "    \n",
      "  # Fill in here.\n",
      "  URLS = []\n",
      "\n",
      "  def GetEntries(\n",
      "      self, parser_context, file_entry=None, key=None, registry_type=None,\n",
      "      **unused_kwargs):\n",
      "    \"\"\"Gather data from our plugin, please rewrite me.\"\"\"\n",
      "    \n",
      "from plaso.parsers import winreg\n",
      "winreg.WinRegistryParser.RegisterPlugin(MysteryPlugin)"
     ],
     "language": "python",
     "metadata": {},
     "outputs": []
    },
    {
     "cell_type": "markdown",
     "metadata": {},
     "source": [
      "[**optional code segment**] Remember if you make changes to the parser you need to de-register it before you run the code segment again (to register it):"
     ]
    },
    {
     "cell_type": "code",
     "collapsed": false,
     "input": [
      "# OPTIONAL DO NOT EXECUTE UNLESS YOU'VE MADE CHANGES TO THE PARSER CODE ABOVE AND\n",
      "# NEED TO REGISTER THOSE CHANGES!\n",
      "\n",
      "winreg.WinRegistryParser.DeregisterPlugin(MysteryPlugin)"
     ],
     "language": "python",
     "metadata": {},
     "outputs": []
    },
    {
     "cell_type": "markdown",
     "metadata": {},
     "source": [
      "And finally we need to create a unit test to make sure we are parsing the key properly."
     ]
    },
    {
     "cell_type": "code",
     "collapsed": false,
     "input": [
      "class MysteryPluginTest(test_lib.RegistryPluginTestCase):\n",
      "  \"\"\"Tests for the mysterious registry key.\"\"\"\n",
      "\n",
      "  def setUp(self):\n",
      "    \"\"\"Sets up the needed objects used throughout the test.\"\"\"\n",
      "    # Once we would actually commit the code in we would use a real file\n",
      "    # that is inside our test directory. But for now we call the temporary\n",
      "    # file that we defined earlier.\n",
      "    #test_file = self._GetTestFilePath(['SYSTEM'])\n",
      "    self.test_file = test_registry_file_name\n",
      "        \n",
      "    registry_cache = cache.WinRegistryCache()\n",
      "    registry_cache.attributes['current_control_set'] = 'ControlSet001'\n",
      "    \n",
      "    self._plugin = MysteryPlugin(reg_cache=registry_cache)\n",
      "\n",
      "  def testProcess(self):\n",
      "    \"\"\"Tests the Process function and change me, pretty please.\"\"\"\n",
      "    # Put in the actual path, test files do not expand the key using attributes.\n",
      "    key_path = '\\\\ControlSet001\\\\Control\\\\ProductOptions'\n",
      "    winreg_key = self._GetKeyFromFile(self.test_file, key_path)\n",
      "\n",
      "    event_queue_consumer = self._ParseKeyWithPlugin(self._plugin, winreg_key)\n",
      "    event_objects = self._GetEventObjectsFromQueue(event_queue_consumer)\n",
      "\n",
      "    # At bare minimum we need to test that the parser successfully parsed\n",
      "    # all the lines.\n",
      "    self.assertEquals(len(event_objects), 1)\n",
      "\n",
      "    # Let's read in this event object and verify some of it's fields.\n",
      "    event_object = event_objects[0]\n",
      "\n",
      "    # Make sure the timestamp is the correct one.\n",
      "    # date -u -d \"2011-09-17T13:43:39.129177\" +\"%s%N\" / 1000\n",
      "    self.assertEquals(event_object.timestamp, 1316267019129177)\n",
      "    # Add here some tests to make sure we are parsing/extracting attribute names.\n",
      "\n",
      "    # And now we need to test our formatter, create a message string and test it.\n",
      "    expected_msg = u'This is a message string.'\n",
      "    expected_msg_short = u'The short version.'\n",
      "\n",
      "    self._TestGetMessageStrings(event_object, expected_msg, expected_msg_short)"
     ],
     "language": "python",
     "metadata": {},
     "outputs": []
    },
    {
     "cell_type": "markdown",
     "metadata": {},
     "source": [
      "And run these tests to make sure we have everything covered."
     ]
    },
    {
     "cell_type": "code",
     "collapsed": false,
     "input": [
      "my_suite = unittest.TestSuite()\n",
      "my_suite.addTest(MysteryPluginTest('testProcess'))\n",
      "\n",
      "results = unittest.TextTestRunner(verbosity=3).run(my_suite)\n",
      "\n",
      "if results.errors:\n",
      "  print u'Errors came up while trying to run test.'\n",
      "  for error in results.errors:\n",
      "    if isinstance(error, basestring):\n",
      "      print error\n",
      "    else:\n",
      "      for sub_error in error:\n",
      "        print sub_error\n",
      "elif results.failures:\n",
      "  print u'Failures came up while trying to run test.'\n",
      "  for failure in results.failures:\n",
      "    if isinstance(failure, basestring):\n",
      "      print failure\n",
      "    else:\n",
      "      for sub_failure in failure:\n",
      "        print sub_failure\n",
      "else:\n",
      "  print u'All came out clean.'\n",
      "  print results"
     ],
     "language": "python",
     "metadata": {},
     "outputs": []
    },
    {
     "cell_type": "markdown",
     "metadata": {},
     "source": [
      "And remember there may be some interesting code segments that were introduced in the overview of the boot execute plugin that might help you during this assignment (just change the appropriate calls to the boot execute plugin to the newly created one and execute them again).\n",
      "\n",
      "And you can also start playing a bit with this registry hive to find other interesting keys (since the key in the assignment is not really that interesting).\n",
      "\n",
      "This code segment below is necessary to set up our \"exploration\" environment."
     ]
    },
    {
     "cell_type": "code",
     "collapsed": false,
     "input": [
      "# Import the libraries from preg, so we can start exploring the registry.\n",
      "from plaso.frontend import preg\n",
      "\n",
      "# Open up the registry hive.\n",
      "print test_registry_file_name\n",
      "preg.OpenHive(test_registry_file_name, None)\n",
      "\n",
      "# Get access to the iPython shell we are in, so we can start modifying it a bit.\n",
      "shell = get_ipython()\n",
      "\n",
      "# Adding \"magic\" functions.\n",
      "shell.register_magics(preg.MyMagics)\n",
      "\n",
      "# Registering command completion for the magic commands.\n",
      "shell.set_hook('complete_command', preg.CdCompleter, str_key='%cd')\n",
      "shell.set_hook('complete_command', preg.VerboseCompleter, str_key='%ls')\n",
      "shell.set_hook('complete_command', preg.VerboseCompleter, str_key='%parse')\n",
      "shell.set_hook('complete_command', preg.PluginCompleter, str_key='%plugin')"
     ],
     "language": "python",
     "metadata": {},
     "outputs": []
    },
    {
     "cell_type": "markdown",
     "metadata": {},
     "source": [
      "And now we can start exploring this registry file.\n",
      "\n",
      "Try commands like:\n",
      " + cd KEY\n",
      " + ls [-v]\n",
      " + parse [-v]\n",
      " + plugin PLUGIN_NAME\n",
      " \n",
      "Tab completion for key names should work (please try it out and play with it). Which means you can type something like:\n",
      "\n",
      "    cd C<TAB>\n",
      "    \n",
      "And the tab completion will try to complete that registry key.\n",
      "\n",
      "Try to begin with something like the code segment below, and then change it at will (the % in front of commands is to specify these are \"magic\" commands, it is not necessary to have there, but it's kept just in case since some setups of ipython/notebook don't seem to like not having it there)"
     ]
    },
    {
     "cell_type": "code",
     "collapsed": false,
     "input": [
      "%ls\n",
      "%cd \\ControlSet001\\Enum\\USBSTOR\n",
      "%ls\n",
      "%cd Disk&Ven_HP&Prod_v100w&Rev_1024\\AA951D0000007252&0\n",
      "%ls -v\n",
      "%parse\n",
      "%pwd"
     ],
     "language": "python",
     "metadata": {},
     "outputs": []
    },
    {
     "cell_type": "markdown",
     "metadata": {},
     "source": [
      "## Clean Up\n",
      "\n",
      "During our test code we created a temporary file, that we may want to delete. To delete it, use the code below:\n"
     ]
    },
    {
     "cell_type": "code",
     "collapsed": false,
     "input": [
      "import os\n",
      "\n",
      "if test_registry_file_name:\n",
      "  os.remove(test_registry_file_name)"
     ],
     "language": "python",
     "metadata": {},
     "outputs": []
    }
   ],
   "metadata": {}
  }
 ]
}