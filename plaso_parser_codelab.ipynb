{
 "cells": [
  {
   "cell_type": "markdown",
   "metadata": {},
   "source": [
    "# Parser Code Lab"
   ]
  },
  {
   "cell_type": "markdown",
   "metadata": {},
   "source": [
    "## Intended Audience"
   ]
  },
  {
   "cell_type": "markdown",
   "metadata": {},
   "source": [
    "This lab is for people who want to learn how to write and execute a Plaso parser in Python.  This tutorial assumes:\n",
    "\n",
    "+  You have a functional development environment\n",
    "+  You have used Plaso\n",
    "+  You are familiar with the Python programming language\n",
    "+  You are looking to write a parser (as an opposed to a plugin, which is be a separate codelab)\n",
    "\n",
    "## Objective\n",
    "\n",
    "This lab will teach you how to write a text parser with tests for the Plaso framework.  by the end you will be able to:\n",
    "\n",
    "+ Write a text parser for a CSV file\n",
    "+ Write a formatter for the events created by the parser\n",
    "+ Write unit tests for the parser\n",
    "+ Run the parser as part of plaso/log2timeline\n",
    "\n",
    "## Expectations\n",
    "\n",
    "This lab should take you a couple hours to complete.  Some of this is dependent on strange build issues you might have.  We are not attempting to get you to check in code yet, this is to demonstrate how a parser is written. For this to be a checked in parser you need to write a parser against a file that is not already parsed and split the code here into several files (layout explained below).\n",
    "\n",
    "## Introduction\n",
    "\n",
    "Welcome to writing a Plaso parser!  From the outside, writing a parser can be daunting, but once you get your dev environment going, you've fought half the battle.  This code lab explains how to write a text parser, but the formula can be used for any type. Other codelabs for plugin writing will be available soon as well.\n",
    "\n",
    "## Before Starting\n",
    "\n",
    "Get familiar with the [developers guide](https://github.com/log2timeline/plaso/wiki/Developers-Guide) and more specifically the [style guide](https://github.com/log2timeline/plaso/wiki/Style-guide). To make the code easier to maintain we follow a style guide, partially based on the [Google Python Style Guide](http://google-styleguide.googlecode.com/svn/trunk/pyguide.html) but slightly modified to fit our needs.\n",
    "\n",
    "We also follow a code review process that is discussed on the [code review](https://github.com/log2timeline/plaso/wiki/Codereview) site.\n",
    "\n",
    "This is an iPython notebook, and if you are not familiar with it then here is the brief introduction. This is basically an iPython shell wrapped up in a pretty GUI (browser window). You can execute any Python code you wish, and quickly go back, edit and re-run code. To run the code, click the window with the code segment and press \"Shift+Enter\", that way you will see that the bracket on the left will change to indicate it has been executed and you may see some output below (if the code segment produced any output).\n",
    "\n",
    "One thing to make note of is that some of the code segments depend on previous code segments having been executed. So in order for this codelab to work properly you need to execute **EVERY** code segment that is presented here, especially all class declarations and import statements, but to be sure just execute them all [except those explicitly stated as **optional**].\n",
    "\n",
    "The first thing we need to do is to make sure your development environment is up-to date. Run the following code snippet (below) by clicking the tab and pressing \"**SHIFT-ENTER**\". If you'll see a printed warning start by upgrading the tool before continuing."
   ]
  },
  {
   "cell_type": "code",
   "execution_count": null,
   "metadata": {
    "collapsed": true
   },
   "outputs": [],
   "source": [
    "# Check the plaso version to make sure we have the latest plaso version installed (we need the dev version)\n",
    "import plaso\n",
    "# Check plaso dependencies\n",
    "from plaso import dependencies\n",
    "\n",
    "installed_version = plaso.__version__\n",
    "installed_date = plaso.VERSION_DATE\n",
    "\n",
    "# Now we need to download the latest version from github to compare.\n",
    "# Import a library to make the HTTP connection.\n",
    "import urllib2\n",
    "\n",
    "# The URL to the plaso init file that contains version information.\n",
    "url = u'https://raw.githubusercontent.com/log2timeline/plaso/master/plaso/__init__.py'\n",
    "\n",
    "# Download the file.\n",
    "response = urllib2.urlopen(url)\n",
    "\n",
    "latest_date = None\n",
    "latest_version = None\n",
    "dev_version = False\n",
    "line = response.readline()\n",
    "while line:\n",
    "  line.strip()\n",
    "  if line.startswith(u'VERSION_DATE'):\n",
    "    latest_date = line.split()[-1]\n",
    "    latest_date = latest_date[1:-1]\n",
    "  elif line.startswith(u'__version__'):\n",
    "    latest_version = line.split()[-1]\n",
    "    latest_version = latest_version[1:-1]\n",
    "\n",
    "  line = response.readline()\n",
    "\n",
    "if dev_version:\n",
    "  latest_version = u'{0:s}_{1:s}'.format(latest_version, latest_date)\n",
    "\n",
    "print u'*'*40\n",
    "print u'Checking plaso:'\n",
    "print u'-'*40\n",
    "\n",
    "if latest_version != installed_version:\n",
    "  print u'You are not running the latest version of plaso, please update.'\n",
    "  print u'Current running version: {0:s} should be {1:s}'.format(installed_version, latest_version)\n",
    "\n",
    "elif latest_date != installed_date:\n",
    "  print u'There have been code commits since you last update, please upgrade before continuing.'\n",
    "  print u'Current running version: {0:s} should be {1:s}'.format(installed_date, latest_date)  \n",
    "    \n",
    "else:\n",
    "  print u'BINGO, you have the latest version of plaso installed.'\n",
    "\n",
    "print u'\\n'\n",
    "print u'*'*80\n",
    "print u'Check dependencies:'\n",
    "print u'-'*80\n",
    "\n",
    "\n",
    "# TODO: Re-enable this! When enabled for some reason no output was produced later.\n",
    "#if dependencies.CheckDependencies(latest_version_check=True):\n",
    "#  print u'You are all set, all dependencies are up-to-date'\n",
    "#else:\n",
    "#  print u'Make sure to go over the dependency list and install or upgrade the missing dependencies.'\n",
    "#  print u'See the \"Development Release\" tab in the sidebar at: https://github.com/log2timeline/plaso/wiki'"
   ]
  },
  {
   "cell_type": "markdown",
   "metadata": {},
   "source": [
    "To make it easier to get documentation about various classes we may use in the codelab we'll start with defining a simple function to print out help (so to execute, click the code segment below and press \"**SHIFT+ENTER**\")."
   ]
  },
  {
   "cell_type": "code",
   "execution_count": null,
   "metadata": {
    "collapsed": true
   },
   "outputs": [],
   "source": [
    "import inspect\n",
    "\n",
    "# Let's put this in a method so we can easily call it from other parts of the codelab.\n",
    "def PrintClassHelp(class_object, filter_string=''):\n",
    "  \"\"\"Prints a help string for a given class object.\n",
    "\n",
    "  Args:\n",
    "    class_object: The class that we are about to inspect.\n",
    "    filter_string: Filter class members that start with a particular string.\n",
    "  \"\"\"\n",
    "  # Print the docstring of the class.\n",
    "  print u''\n",
    "  print class_object.__doc__\n",
    "   \n",
    "  # Print information for every member function.\n",
    "  additional_members = []\n",
    "  for member_name, member_value in inspect.getmembers(class_object):\n",
    "    # Check to see if we are filtering out members starting with\n",
    "    # a particular string.\n",
    "    if filter_string and not member_name.startswith(filter_string):\n",
    "      continue\n",
    "    if inspect.ismethod(member_value):\n",
    "      args = inspect.getargspec(member_value)\n",
    "      doc_string = member_value.__doc__\n",
    "        \n",
    "      print u'{0}{1:>20s}({2}){0:>10}\\n\\n{3}\\n{4}\\n\\n'.format(\n",
    "          '*'*5, member_name, u','.join(args.args), doc_string, '-'*80)\n",
    "    else:\n",
    "      if not member_name.startswith('_'):\n",
    "        additional_members.append(u'{} = {}'.format(member_name, repr(member_value)))\n",
    "\n",
    "  if additional_members:\n",
    "    print '\\n'\n",
    "    print '*** Additional Members of Class ***\\n\\n ',\n",
    "    print u'\\n  '.join(additional_members)"
   ]
  },
  {
   "cell_type": "markdown",
   "metadata": {},
   "source": [
    "## Disclaimer\n",
    "\n",
    "During this codelab we will be using the iPython notebook interface for everything, which means we have all the classes and code in a single file. Once we deploy the code to the actual codebase we would need to save the code in several places, typically something like:\n",
    "\n",
    "+ plaso/parsers/myparser.py\n",
    "+ tests/parsers/myparser.py\n",
    "+ plaso/formatters/myparser.py\n",
    "+ tests/formatters/myparser.py\n",
    "\n",
    "We would likely also want to change the [plaso/frontend/presets.py](https://github.com/log2timeline/plaso/blob/master/plaso/frontend/presets.py) to include the parser in a preset.\n",
    "\n",
    "We are however omitting all these details to make the codelab easier to follow along. This can also be used for people to test their parsers and play with them without the need to mess with the codebase and once the parser is fully functional then create the necessary files and start the code review process.\n",
    "\n",
    "There are also a lot of comments in the code in this codelab that would typically be omitted from a released parser. To see the actual code that is used as an example here click on one of the below links:\n",
    "\n",
    "+ [plaso/parsers/mcafeeav.py](https://github.com/log2timeline/plaso/blob/master/plaso/parsers/mcafeeav.py)\n",
    "+ [tests/parsers/mcafeeaav.py](https://github.com/log2timeline/plaso/blob/master/tests/parsers/mcafeeav.py)\n",
    "+ [plaso/formatters/mcafeeav.py](https://github.com/log2timeline/plaso/blob/master/plaso/formatters/mcafeeav.py)\n",
    "+ [tests/formatters/mcafeeav.py](https://github.com/log2timeline/plaso/blob/master/tests/formatters/mcafeeav.py)\n",
    "\n",
    "## Writing the Parser\n",
    "\n",
    "We are going to write the parser completely in this iPython notebook, and test it there too. There is no need for anything else than this notebook (and the plaso libs available). The test file used for the example is included in the codelab so no need even to download that.\n",
    "\n",
    "Before writing a parser, and now we are assuming we are attempting to parse a text file, ask yourself these questions:\n",
    "\n",
    "+ Examine the lines, what do they contain?\n",
    "+ Is there a header?\n",
    "+ How are the timestamps formatted?\n",
    "+ Is the timestamp stored in the systems local time zone or a common one (like UTC).\n",
    "+ Does the file have a single line per entry? As in does a single line in the log file represent a single event?\n",
    "+ Does the line have a fixed delimiter?\n",
    "+ Are there always equal amount of fields in the file?\n",
    "\n",
    "Remember that we are not about to submit this parser in for review, since it is already checked in, this is only for demonstration purposes, please refer to the [plaso roadmap](https://github.com/log2timeline/plaso/issues?q=is%3Aopen+is%3Aissue+label%3Aenhancement) for open parser assignments (or add your own)."
   ]
  },
  {
   "cell_type": "markdown",
   "metadata": {},
   "source": [
    "### The header\n",
    "\n",
    "First things first, every file checked into the project needs a header. That header contains among other a docstring as well as import statements.\n",
    "\n",
    "The first line should be an encoding defintion. After that there is a doc string that needs to be created, it should not be longer than 80 characters in width. If you need more than a single line to describe the parser please still only use max 80 characters as the first line, ending with a dot. Then you can create a more detailed\n",
    "description two lines down (an example of that can be seen below).\n",
    "\n",
    "The import order is defined in the [style guide](http://google-styleguide.googlecode.com/svn/trunk/pyguide.html?showone=Imports_formatting#Imports_formatting):\n",
    "\n",
    "    Imports are always put at the top of the file, just after any module comments and doc strings and before module globals and constants. \n",
    "    Imports should be grouped with the order being most generic to least generic:\n",
    "\n",
    "    + standard library imports\n",
    "    + third-party imports\n",
    "    + application-specific imports\n",
    "\n",
    "    Within each grouping, imports should be sorted lexicographically, ignoring case, according to each module's full package path.\n"
   ]
  },
  {
   "cell_type": "code",
   "execution_count": null,
   "metadata": {
    "collapsed": true
   },
   "outputs": [],
   "source": [
    "# -*- coding: utf-8 -*-\n",
    "\"\"\"Parser for McAfee Anti-Virus Logs.\n",
    "\n",
    "McAfee AV uses 4 logs to track when scans were run, when virus databases were\n",
    "updated, and when files match the virus database.\"\"\"\n",
    "\n",
    "# A library that contains the EventObject for text based parsers.\n",
    "from plaso.events import text_events\n",
    "from plaso.lib import errors\n",
    "\n",
    "# A library that contains all timestamp manipulations.\n",
    "from plaso.lib import timelib\n",
    "\n",
    "# A library that contains the parser manager, required for registering new parser.\n",
    "from plaso.parsers import manager\n",
    "\n",
    "# A library that contains assistants for text parsing.\n",
    "from plaso.parsers import text_parser"
   ]
  },
  {
   "cell_type": "markdown",
   "metadata": {},
   "source": [
    "  \n",
    "### The Parser Class\n",
    "\n",
    "We now need to know what kind of parser you are trying to implement. We are in the progress of writing a documentation to assist people writing new parsers, describing the various different assistants available however for now we are trying to parse a simple text file, with one line per entry. For text parsing ATM we have the following choices:\n",
    "\n",
    "+  **Simple Text Parser** (*TextCSVParser*): Good for CSV files or other files with fixed delimiter and the same number of fields in every line.\n",
    "+  **Single line text parser** (*PyparsingSingleLineTextParser*): Good for other type of text files where we have a single line per entry.\n",
    "+  **Multi line text parser** (*PyparsingMultiLineTextParser*): Good for text files that may have multiple lines per entry.\n",
    "\n",
    "Which Parser Class is best for [AccessProtectionLog.txt](https://raw.githubusercontent.com/log2timeline/plaso/master/test_data/AccessProtectionLog.txt)?\n",
    "\n",
    "How do you break up a line?  Look at it in your favorite text editor.\n",
    "\n",
    "```\n",
    "    9/27/2013 2:42:26 PM Blocked by Access Protection rule  SOMEDOMAIN\\someUser C:\\Windows\\System32\\procexp64.exe C:\\Program Files (x86)\\McAfee\\Common Framework\n",
    "    \\UdaterUI.exe Common Standard Protection:Prevent termination of McAfee processes Action blocked : Terminate  \n",
    "```\n",
    "\n",
    "What will you call the fields?  What is the separator?\n",
    "\n",
    "If you look at the line you may notice (not immediately visible in the notebook) that the text file is delimited by a tab character ('\\t') and it consists of eight fields. If we break them down we can name them as:\n",
    "\n",
    "+ date\n",
    "+ time\n",
    "+ status\n",
    "+ username\n",
    "+ filename\n",
    "+ trigger_location\n",
    "+ rule\n",
    "+ action\n",
    "\n",
    "*We are taking an already checked in parser to use as an example, to avoid all namespace collitions we are appending the word \"Foo\" or \"foo\" to many of the class names and other fields to avoid name collisions.*  \n"
   ]
  },
  {
   "cell_type": "markdown",
   "metadata": {},
   "source": [
    "#### VerifyRow()\n",
    "  \n",
    "During the extraction process a worker gets a copy of every file. That file needs to be evaluated to find the correct parser to parse it. The goal of the **VerifyRow()** function is to define a way for each parser to evaluate a single line or part of the text file to verify that this line matches the format the parser is meant to parse. This function returns True or False.\n",
    "  \n",
    "What makes your file the special, unique snowflake that it is?  Will is always have the same number of columns?  Is the timestamp format unique?  What kind of strings are common in the lines?  Use these as a base for creating VerifyRow().\n",
    "\n",
    "It is important that this function quickly identifies the file in question, and accurately. The tool will collect by default every file found inside a disk image and attempt to parse it using this parser, thus it is important to quickly verify the file structure to not waste too much time as well as to do so accurately so there are no false hits in the parser.\n"
   ]
  },
  {
   "cell_type": "code",
   "execution_count": null,
   "metadata": {
    "collapsed": true
   },
   "outputs": [],
   "source": [
    "PrintClassHelp(text_parser.TextCSVParser, 'VerifyRow')"
   ]
  },
  {
   "cell_type": "markdown",
   "metadata": {},
   "source": [
    "#### _GetTimestamp()  \n",
    "\n",
    "The timestamp in this text file is is split into 2 fields, the Date and the Time.\n",
    "  \n",
    "The date is a string like \"9/27/2013\".  The sample was obtained from an American system, so the month is first (dates depend on local settings).  Anecdotal reports suggest that European systems are day first, but for this code lab we will ignore that.\n",
    "  \n",
    "The time is a string like \"2:42:26 PM\".  It's 12 hour time, and written in the local computer's time zone.\n",
    "\n",
    "You can write your own timestamp parser, but the cool kids are all using timelib to create Plaso 64 bit timestamps the easy way. All time manipulations should be done using timelib. If there is no available function inside the common timelib you will have to add one. This is done to make sure we can easily test and fix issues that may come across time manipulations. Plaso stores it's timestamps as number of microseconds since the Epoch in UTC.\n",
    "\n",
    "[timelib](https://github.com/log2timeline/plaso/blob/master/plaso/lib/timelib.py) has the class Timestamp which has the functions to make the proper timestamp:\n",
    "\n",
    "+ FromPythonDatetime\n",
    "+ FromTimeString\n",
    "+ FromHFSTime\n",
    "+ FromHfsPlusTime\n",
    "+ FromCocoaTime\n",
    "+ FromFatDateTime\n",
    "+ FromWebKitTime\n",
    "+ FromFiletime\n",
    "+ FromPosixTime\n",
    "+ FromTimeParts\n",
    "\n",
    "What is the best function to convert our string into a Timestamp?  When you're writing the function, think about error checking/confirming you have something to work with.  Also, you'll want to write a full Doc String for this one as there are 2 arguments.\n",
    "\n",
    "In our text parser we define a small little function that takes the timestamp as it is -- the text format -- and translates that into the proper integer value (microseconds since Epoch UTC). This function is named GetTimetamp.\n",
    "\n",
    "      def _GetTimestamp(self, date, time):\n",
    "\n",
    "Let's explore the timelib class a bit, see what functions exist within the timelib.Timestamp class and how they are used:"
   ]
  },
  {
   "cell_type": "code",
   "execution_count": null,
   "metadata": {
    "collapsed": true
   },
   "outputs": [],
   "source": [
    "# Import the library we are about to inspect.\n",
    "from plaso.lib import timelib\n",
    "\n",
    "# You can easily change the name of the class here if you want to explore a different\n",
    "# class and it's members.\n",
    "PrintClassHelp(timelib.Timestamp)"
   ]
  },
  {
   "cell_type": "markdown",
   "metadata": {},
   "source": [
    "#### ParseRow()\n",
    "\n",
    "Now to the actual meat of the parser, ParseRow(row). The text parser will parse each line in the text file, split it up into columns, assign the key value to each row according to the COLUMNS definition and pass that as a dict object to the ParseRow() function. The purpose of the ParseRow? To take that dict and turn that into an EventObject representing that particular log line.\n",
    "\n",
    "So if you define the COLUMNS class constant as ['foo', 'bar'] and the text file contains only two fields, eg \"stuff, more stuff\" you will get a dict created for each row, called \"row\" that contains:\n",
    "\n",
    "COLUMNS = ['foo', 'bar']\n",
    "\n",
    "And the text file is \n",
    "\n",
    "    stuff, more stuff\n",
    "    egg, ham\n",
    "    hamster, mouse\n",
    "\n",
    "The resulting parser would call the ParseRow function three times, each time assigning the row dict the following values:\n",
    "\n",
    "    {'foo': 'stuff', 'bar': 'more stuff'}\n",
    "\n",
    "    {'foo': 'egg', 'bar': 'ham'}\n",
    "\n",
    "    {'foo': 'hamster', 'bar': 'mouse'}\n",
    "\n",
    "\n",
    "The ParseRow function goal is to extract meaning from the log line, create an event object and push that to the queue. You can use the default event class from the event library or you can make your own event class.  The latter is good when you want to add some logic to a row or event (as discussed above).  Creating a minimal Event lets you sent the data type.\n",
    "\n",
    "```python\n",
    "  def ParseRow(self, parser_mediator, row_offset, row):\n",
    "    \"\"\"Parses a row and extract event objects.\n",
    "\n",
    "    Args:\n",
    "      parser_mediator: a parser mediator object (instance of ParserMediator).\n",
    "      row_offset: the offset of the row.\n",
    "      row: a dictionary containing all the fields as denoted in the\n",
    "           COLUMNS class list.\n",
    "    \"\"\"\n",
    "    try:\n",
    "      timestamp = self._GetTimestamp(\n",
    "          row[u'date'], row[u'time'], parser_mediator.timezone)\n",
    "    except errors.TimestampError as exception:\n",
    "      parser_mediator.ProduceParseError(\n",
    "          u'Unable to parse time string: [{0:s} {1:s}] with error {2:s}'.format(\n",
    "              repr(row[u'date']), repr(row[u'time']), exception))\n",
    "      return\n",
    "\n",
    "    if timestamp is None:\n",
    "      return\n",
    "\n",
    "    event_object = McafeeAVEvent(timestamp, row_offset, row)\n",
    "    parser_mediator.ProduceEvent(event_object)\n",
    "```\n",
    "\n"
   ]
  },
  {
   "cell_type": "code",
   "execution_count": null,
   "metadata": {
    "collapsed": true
   },
   "outputs": [],
   "source": [
    "PrintClassHelp(text_parser.TextCSVParser, 'ParseRow')"
   ]
  },
  {
   "cell_type": "markdown",
   "metadata": {},
   "source": [
    "You may have noticed the method is passed a \"parser_mediator\" object. The parser mediator is an [object](https://github.com/log2timeline/plaso/blob/master/plaso/parsers/mediator.py) that is passed to each parser (and plugin) and allows it to interact with other parts of Plaso, essentially being a [mediator](https://en.wikipedia.org/wiki/Mediator_pattern). Here you can see how it provides functionality to produce events that will be queued for storage and producing parser error reports.\n",
    "\n",
    "Below, you see an example of how the parser mediator object can also be used to access information about the system collected during pre-processing. In this case, parser_mediator.timezone provides the system's timezone. This part of Plaso is undergoing extensive development at the moment, and more features will be added in near future."
   ]
  },
  {
   "cell_type": "markdown",
   "metadata": {},
   "source": [
    "### Write a Convenience Event Object - McafeeAVEvent\n",
    "\n",
    "Each timestamped event is described as an EventObject. Sometimes it may be easier to create a convenience class to make it easier to create the EventObject. The reasons you may want to implement your own class is mainly for convenience reasons, eg. if for each created event object the same amount of calculations are made to normalize the timestamp or same conditions are applied before assigning a particular value (eg; compare variables foo and bar and assign the value of foobar depending on that comparison).\n",
    "\n",
    "Generally, you will put the Event class in the parser file at the top.\n",
    "\n",
    "The prime thing to have in an Event class is the DATA_TYPE.  It is in essence a set of categories, separated by ':'.\n",
    "\n",
    "```python\n",
    "  DATA_TYPE = 'av:mcafee:accessprotectionlog'\n",
    "```\n",
    "\n",
    "If you would like to transform the row, you can implement the *\\_\\_init\\_\\_()* function.  Make sure you add a Doc String spelling out what you pass in.\n",
    "\n",
    "With the McAfee AV log, we put the \"Date\" and \"Time\" into the timestamp variable, so we don't need them in the row.  It would thus be a good idea to remove them from the list of attributes before creating the event. \n",
    "\n",
    "Write the McafeeAVEvent class and implement \\_\\_init\\_\\_().\n"
   ]
  },
  {
   "cell_type": "code",
   "execution_count": null,
   "metadata": {
    "collapsed": true
   },
   "outputs": [],
   "source": [
    "class McafeeAVEventFoo(text_events.TextEvent):\n",
    "  \"\"\"Convenience class for McAfee AV Log events \"\"\"\n",
    "\n",
    "  # This has to match the DATA_TYPE attribute in the formatter class (discussed later)\n",
    "  DATA_TYPE = u'av:mcafee:accessprotectionlog:foo'\n",
    "\n",
    "  def __init__(self, timestamp, offset, attributes):\n",
    "    \"\"\"Initializes a McAfee AV Log Event.\n",
    "    Args:\n",
    "      timestamp: the timestamp time value. The timestamp contains the\n",
    "                 number of seconds since Jan 1, 1970 00:00:00 UTC.\n",
    "      offset: the offset of the attributes.\n",
    "      attributes: dict of elements from the AV log line.\n",
    "    \"\"\"\n",
    "    del attributes[u'time']\n",
    "    del attributes[u'date']\n",
    "    super(McafeeAVEventFoo, self).__init__(timestamp, offset, attributes)\n",
    "    self.full_path = attributes[u'filename']"
   ]
  },
  {
   "cell_type": "markdown",
   "metadata": {},
   "source": [
    "For this example we used the assistant event object TextEvent. To get a bit more help about the \\_\\_init\\_\\_ function of the clas."
   ]
  },
  {
   "cell_type": "code",
   "execution_count": null,
   "metadata": {
    "collapsed": true
   },
   "outputs": [],
   "source": [
    "PrintClassHelp(text_events.TextEvent, '__init__')"
   ]
  },
  {
   "cell_type": "markdown",
   "metadata": {},
   "source": [
    "Here is the entire class for the parser."
   ]
  },
  {
   "cell_type": "code",
   "execution_count": null,
   "metadata": {
    "collapsed": true
   },
   "outputs": [],
   "source": [
    "class McafeeAccessProtectionParserFoo(text_parser.TextCSVParser):\n",
    "  \"\"\"Parses the McAfee AV Access Protection Log.\"\"\"\n",
    "  # The above docstring has to be short and descriptive as that is used when\n",
    "  # listing up all available parsers in the tool.\n",
    "\n",
    "  # The name of the parser. This is the name of the parser as it will appear\n",
    "  # when parser.parser_name is called, and is displayed in all statistics. Also\n",
    "  # when parser selection is made. This has to be unique, since no two parsers can\n",
    "  # share the same name.\n",
    "  # This also has to be simple and descriptive (and lower case).\n",
    "  NAME = u'mcafee_protection_foo'\n",
    "\n",
    "  # The description field serves as a short one line describing the purpose of the\n",
    "  # parser and is used when printing out information about each parser, eg when the\n",
    "  # the front-end is called with \"--info\".\n",
    "  DESCRIPTION = u'Parser for McAfee AV Access Protection log files.'\n",
    "\n",
    "  # The value separator defines the delimiter of the text file, by default this is set\n",
    "  # to ',', so it parsers typical CSV files. If you need to overwrite that, for instance\n",
    "  # when parsing this text log we define it here.\n",
    "  VALUE_SEPARATOR = b'\\t'\n",
    "\n",
    "  # If there is a header before the lines start it can be defined here, and\n",
    "  # the number of header lines that need to be skipped before the parsing\n",
    "  # starts.\n",
    "  NUMBER_OF_HEADER_LINES = 0\n",
    "    \n",
    "  # If there is a special quote character used inside the structured text\n",
    "  # it can be defined here.\n",
    "  QUOTE_CHAR = '\"'\n",
    "\n",
    "  # Define the columns of the McAfee AV Access Protection Log.\n",
    "  COLUMNS = [u'date', u'time', u'status', u'username', u'filename',\n",
    "             u'trigger_location', u'rule', u'action']\n",
    "\n",
    "  def _GetTimestamp(self, date, time, timezone):\n",
    "    \"\"\"Return a 64-bit signed timestamp in microseconds since Epoch.\n",
    "\n",
    "     The timestamp is made up of two strings, the date and the time, separated\n",
    "     by a tab. The time is in local time. The month and day can be either 1 or 2\n",
    "     characters long.  E.g.: 7/30/2013\\t10:22:48 AM\n",
    "\n",
    "     Args:\n",
    "       date: The string representing the date.\n",
    "       time: The string representing the time.\n",
    "       timezone: The timezone object.\n",
    "\n",
    "     Returns:\n",
    "       A plaso timestamp value, microseconds since Epoch in UTC.\n",
    "    \"\"\"\n",
    "\n",
    "    if not (date and time):\n",
    "      logging.warning('Unable to extract timestamp from McAfee AV logline.')\n",
    "      return\n",
    "\n",
    "    # TODO: Figure out how McAfee sets Day First and use that here.\n",
    "    # The in-file time format is '07/30/2013\\t10:22:48 AM'.\n",
    "    return timelib.Timestamp.FromTimeString(\n",
    "        u'{0:s} {1:s}'.format(date, time), timezone=timezone)\n",
    "\n",
    "  def VerifyRow(self, parser_context, row):\n",
    "    \"\"\"Verify that this is a McAfee AV Access Protection Log file.\n",
    "    \n",
    "    Args:\n",
    "      parser_context: A parser context object (instance of ParserContext).\n",
    "      row: A single row from the CSV file.\n",
    "\n",
    "    Returns:\n",
    "      True if this is the correct parser, False otherwise.\n",
    "    \"\"\"\n",
    "\n",
    "    if len(row) != 8:\n",
    "      return False\n",
    "\n",
    "    # This file can have the UTF-8 marker at the beginning of the first row.\n",
    "    # TODO: Find out all the code pages this can have.  Asked McAfee 10/31.\n",
    "    if row['date'][0:3] == '\\xef\\xbb\\xbf':\n",
    "      row['date'] = row['date'][3:]\n",
    "\n",
    "    # Check the date format!\n",
    "    # If it doesn't pass, then this isn't a McAfee AV Access Protection Log\n",
    "    try:\n",
    "      self._GetTimestamp(row['date'], row['time'], parser_context.timezone)\n",
    "    except (TypeError, ValueError):\n",
    "      return False\n",
    "\n",
    "    # Use the presence of these strings as a backup or incase of partial file.\n",
    "    if (not 'Access Protection' in row['status'] and\n",
    "        not 'Would be blocked' in row['status']):\n",
    "      return False\n",
    "\n",
    "    return True\n",
    "    \n",
    "  def ParseRow(self, parser_mediator, row_offset, row):\n",
    "    \"\"\"Parses a row and extract event objects.\n",
    "    Args:\n",
    "      parser_mediator: a parser mediator object (instance of ParserMediator).\n",
    "      row_offset: the offset of the row.\n",
    "      row: a dictionary containing all the fields as denoted in the\n",
    "           COLUMNS class list.\n",
    "    \"\"\"\n",
    "    try:\n",
    "      timestamp = self._GetTimestamp(\n",
    "          row[u'date'], row[u'time'], parser_mediator.timezone)\n",
    "    except errors.TimestampError as exception:\n",
    "      parser_mediator.ProduceParseError(\n",
    "          u'Unable to parse time string: [{0:s} {1:s}] with error {2:s}'.format(\n",
    "              repr(row[u'date']), repr(row[u'time']), exception))\n",
    "      return\n",
    "\n",
    "    if timestamp is None:\n",
    "      return\n",
    "\n",
    "    event_object = McafeeAVEventFoo(timestamp, row_offset, row)\n",
    "    parser_mediator.ProduceEvent(event_object)    \n",
    "    \n",
    "manager.ParsersManager.RegisterParser(McafeeAccessProtectionParserFoo)"
   ]
  },
  {
   "cell_type": "markdown",
   "metadata": {},
   "source": [
    "[**optional code segment**] If you make some modifications to the class above you need to first de-register it before you can register it again. To be able to de-register it use the code block below:"
   ]
  },
  {
   "cell_type": "code",
   "execution_count": null,
   "metadata": {
    "collapsed": true
   },
   "outputs": [],
   "source": [
    "# OPTIONAL CODE BLOCK !! DON'T EXECUTE UNLESS YOU HAVE MADE SOME \n",
    "# CHANGES TO THE PARSER CODE AND WANT TO REGISTER IT AGAIN!!!\n",
    "manager.ParsersManager.DeregisterParser(McafeeAccessProtectionParserFoo)"
   ]
  },
  {
   "cell_type": "markdown",
   "metadata": {},
   "source": [
    "### Writing the Formatter\n",
    "\n",
    "Have you ever noticed the message string when you print out an event?\n"
   ]
  },
  {
   "cell_type": "code",
   "execution_count": null,
   "metadata": {
    "collapsed": true
   },
   "outputs": [],
   "source": [
    "import datetime\n",
    "\n",
    "from plaso.formatters import manager as formatter_manager\n",
    "from plaso.formatters import mediator as formatter_mediator\n",
    "from plaso.lib import event\n",
    "from plaso.lib import eventdata\n",
    "from plaso.lib import timelib\n",
    "\n",
    "# Import the Windows Registry formatter.\n",
    "from plaso.formatters import mcafeeav\n",
    "\n",
    "# Create a date object with the current date.\n",
    "datetime_now = datetime.datetime.utcnow()\n",
    "\n",
    "# Let's create a dummy event.\n",
    "demo_event = event.EventObject()\n",
    "\n",
    "# We need to set the data type so that it matches the McAfee AV protection log.\n",
    "# [this is the checked in code, so we are omitting the \"foo\" that was added for\n",
    "# the purpose of this codelab].\n",
    "demo_event.data_type = 'av:mcafee:accessprotectionlog'\n",
    "\n",
    "# Let's imagine that this comes from this made up filename and\n",
    "# it contains these bogus values.\n",
    "demo_event.filename = r'c:\\some\\path\\i\\do\\not\\know\\file.txt'\n",
    "demo_event.username = u'john'\n",
    "demo_event.trigger_location = u'Home'\n",
    "demo_event.status = u'updating'\n",
    "demo_event.rule = u'my dummy rule'\n",
    "demo_event.action = '[DONE]'\n",
    "\n",
    "# Set the timestamp.\n",
    "demo_event.timestamp = timelib.Timestamp.FromPythonDatetime(datetime_now)\n",
    "demo_event.timestamp_desc = eventdata.EventTimestamp.WRITTEN_TIME\n",
    "\n",
    "# And print the string.\n",
    "print demo_event.GetString()\n",
    "\n",
    "# And to re-iterate, let's print the message string.\n",
    "formatter_mediator_object = formatter_mediator.FormatterMediator()\n",
    "message_string, _ = formatter_manager.FormattersManager.GetMessageStrings(formatter_mediator_object, demo_event)\n",
    "\n",
    "print u'MESSAGE STRING: {}'.format(message_string)"
   ]
  },
  {
   "cell_type": "markdown",
   "metadata": {},
   "source": [
    "Did you notice that in the event above you never really told it how to construct this message string? How does the tool then know how to print it out?\n",
    "\n",
    "That is the purpose of the formatter. The formatter is a simple class that defines what attributes need to be used and how they are put together to form this message string.\n",
    "You're going to need one for any parser you create (or more importantly any data type that exists).\n",
    "\n",
    "The way the formatter works is that it looks at the data_type attribute in the EventObject and matches that to the formatters DATA_TYPE attribute. If they are the same, then the formatter proceeds to processing that EventObject and construct the messsage string.\n",
    "\n",
    "Formatters go in separate files under plaso/formatters. \n",
    "\n",
    "For the most part, you're just setting some values with formats.  You'll want to set up structures that you want to see in your timeline.\n",
    "\n",
    "Most importantly (to re-iterate), the **DATA_TYPE** must match the data_type attribute from the EventObject from the last section.  Watch out for typos here -- there is no warning.\n",
    "\n",
    "There are two formatters that you can use, the simple **EventFormatter** and the **ConditionalEventFormatter**. The former should only be used if you are absolutely sure all the attributes mentioned there are going to be set for each and every event object created. What that means is that for the vast majority of the formatters the ConditionalEventFormatter should be the formatter of choice. But for this simple text file we know that there are always 8 fields in the line and every field is always going to be set, so we can use the EventFormatter class.\n",
    "\n",
    "There are two class constants that should always be set, irrelevant of the choice of formatters:\n",
    "\n",
    "+ **SOURCE_SHORT**: This should match one of the common sources, eg. LOG, WEBHIST, etc. This should closely correspond to the TLN format by H. Carvey as a short description of the source, almost like a short name for the category of the source.\n",
    "+ **SOURCE_LONG**: Since the category itself is not sufficient to describe the source we have an extra field called SOURCE_LONG that further defines that, for instance a browser history extracted from Chrome browser will have the source short set to WEBHIST, indicating that this comes from a web history, but the SOURCE_LONG contains the text \"Chrome History\", setting that apart from other browsers.\n",
    "\n",
    "For the simple EventFormatter two class constants have to be set (or at least one):\n",
    "\n",
    "+ **FORMAT_STRING**: An unicode string that contains formatting information, place all attribute names in {}. This is just a typical Python formatting string, so all typical [rules](http://docs.python.org/2/library/string.html#formatspec) apply. Timestamp, filename/path, username, hostname, etc information is presented in other fields and should not be a part of the message string.\n",
    "+ **FORMAT_STRING_SHORT**: This is only needed when you think that the resulting message string may exceed 80 characters in with and you don't want that to be shorten, as in you don't want the short message string to just contain the first 77 characters of the longer version you can construct your own condensed one.\n",
    "\n",
    "If you use the conditional formatter you need to define the following class constants:\n",
    "\n",
    "+ **FORMAT_STRING_PIECES**: The same as the FORMAT_STRING, except that this is a list and only one attribute name should be defined per entry. If an attribute is not set in the event object then that particular entry in the list will be omitted.\n",
    "+ **FORMAT_STRING_SHORT_PIECES**: Same as the FORMAT_STRING_SHORT except in the same format as FORMAT_STRING_PIECES, that is as a list.\n",
    "\n",
    "Write the Formatter named mcafee.py:\n",
    "\n",
    "```python\n",
    "class McafeeAccessProtectionLogEventFormatter(interface.EventFormatter):\n",
    "```\n",
    "\n",
    "An example of this formatter:"
   ]
  },
  {
   "cell_type": "code",
   "execution_count": null,
   "metadata": {
    "collapsed": true
   },
   "outputs": [],
   "source": [
    "\"\"\"The McAfee AV Logs file event formatter.\"\"\"\n",
    "\n",
    "from plaso.formatters import interface as formatter_interface\n",
    "from plaso.formatters import manager as formatter_manager\n",
    "\n",
    "\n",
    "class McafeeAccessProtectionLogEventFormatterFoo(\n",
    "    formatter_interface.ConditionalEventFormatter):\n",
    "  \"\"\"Formatter for a McAfee Access Protection Log event.\"\"\"\n",
    "\n",
    "  DATA_TYPE = u'av:mcafee:accessprotectionlog:foo'\n",
    "\n",
    "  FORMAT_STRING_PIECES = [\n",
    "      u'File Name: {filename}',\n",
    "      u'User: {username}',\n",
    "      u'{trigger_location}',\n",
    "      u'{status}',\n",
    "      u'{rule}',\n",
    "      u'{action}']\n",
    "\n",
    "  FORMAT_STRING_SHORT_PIECES = [\n",
    "      u'{filename}',\n",
    "      u'{action}']\n",
    "\n",
    "  SOURCE_LONG = u'McAfee Access Protection Log'\n",
    "  SOURCE_SHORT = u'LOG'\n",
    "\n",
    "\n",
    "formatter_manager.FormattersManager.RegisterFormatter(\n",
    "    McafeeAccessProtectionLogEventFormatterFoo)"
   ]
  },
  {
   "cell_type": "markdown",
   "metadata": {},
   "source": [
    "### Test The Parser\n",
    "\n",
    "It is very important to test the parser, to see if it can at least parse our sample dataset.\n",
    "\n",
    "#### Create a temp test file\n",
    "\n",
    "Let's create a test file so we can play with this parser:"
   ]
  },
  {
   "cell_type": "code",
   "execution_count": null,
   "metadata": {
    "collapsed": true
   },
   "outputs": [],
   "source": [
    "import tempfile\n",
    "\n",
    "testfile_path = u''\n",
    "text_to_enter = r\"\"\"9/27/2013\t2:42:26 PM\tBlocked by Access Protection rule \tSOMEDOMAIN\\someUser\tC:\\Windows\\System32\\procexp64.exe\tC:\\Program Files (x86)\\McAfee\\Common Framework\\UdaterUI.exe\tCommon Standard Protection:Prevent termination of McAfee processes\tAction blocked : Terminate\n",
    "9/27/2013\t2:42:39 PM\tBlocked by Access Protection rule \tSOMEDOMAIN\\someUser\tC:\\Windows\\System32\\procexp64.exe\tC:\\Program Files (x86)\\McAfee\\Common Framework\\FrameworkService.exe\tCommon Standard Protection:Prevent termination of McAfee processes\tAction blocked : Terminate\n",
    "9/27/2013\t2:42:39 PM\tBlocked by Access Protection rule \tSOMEDOMAIN\\someUser\tC:\\Windows\\System32\\procexp64.exe\tC:\\Program Files (x86)\\McAfee\\Common Framework\\UdaterUI.exe\tCommon Standard Protection:Prevent termination of McAfee processes\tAction blocked : Terminate\n",
    "9/27/2013\t2:42:40 PM\tBlocked by Access Protection rule \tSOMEDOMAIN\\someUser\tC:\\Windows\\System32\\procexp64.exe\tC:\\Program Files (x86)\\McAfee\\Common Framework\\McTray.exe\tCommon Standard Protection:Prevent termination of McAfee processes\tAction blocked : Terminate\n",
    "7/17/2013\t1:49:34 PM\tWould be blocked by Access Protection rule  (rule is currently not enforced) \tNT AUTHORITY\\SYSTEM\tC:\\Windows\\System32\\powercfg.exe\t\\REGISTRY\\USER\\.DEFAULT\\Software\\Microsoft\\Windows\\CurrentVersion\\Internet Settings\\ZoneMap\\AutoDetect\tAnti-spyware Standard Protection:Protect Internet Explorer favorites and settings\tAction blocked : Create\n",
    "7/17/2013\t1:49:34 PM\tWould be blocked by Access Protection rule  (rule is currently not enforced) \tNT AUTHORITY\\SYSTEM\tC:\\Windows\\System32\\powercfg.exe\tC:\\Windows\\System32\\config\\systemprofile\\AppData\\Local\\Microsoft\\Windows\\Temporary Internet Files\\Content.IE5\\index.dat\tAnti-virus Maximum Protection:Protect cached files from password and email address stealers\tAction blocked : Read\n",
    "7/17/2013\t1:53:31 PM\tWould be blocked by Access Protection rule  (rule is currently not enforced) \tTheGrid\\clu\tC:\\Windows\\system32\\taskhost.exe\tC:\\Windows\\Temp\\SDIAG_1893e055-45e8-4dda-a6fc-036616ec15c7\\DiagPackage.dll\tCommon Maximum Protection:Prevent creation of new executable files in the Windows folder\tAction blocked : Create\n",
    "7/17/2013\t1:53:32 PM\tWould be blocked by Access Protection rule  (rule is currently not enforced) \tTheGrid\\clu\tC:\\Windows\\System32\\sdiagnhost.exe\t\\REGISTRY\\USER\\S-1-5-21-218510691-2140962509-2033415169-18142\\Software\\Microsoft\\Windows\\CurrentVersion\\Internet Settings\\ZoneMap\\AutoDetect\tAnti-spyware Standard Protection:Protect Internet Explorer favorites and settings\tAction blocked : Create\n",
    "7/30/2013\t10:06:05 AM\tWould be blocked by Access Protection rule  (rule is currently not enforced) \tNT AUTHORITY\\SYSTEM\tC:\\Windows\\TEMP\\InstallPlugin_11_8_800_94.exe\tC:\\Windows\\Temp\\{49568447-C9D4-4C19-942B-4472959CBC07}\\fpb.tmp\tAnti-spyware Maximum Protection:Prevent all programs from running files from the Temp folder\tAction blocked : Execute\n",
    "7/30/2013\t10:06:06 AM\tWould be blocked by Access Protection rule  (rule is currently not enforced) \tNT AUTHORITY\\SYSTEM\tC:\\Windows\\TEMP\\InstallPlugin_11_8_800_94.exe\tC:\\Windows\\Temp\\{05007B29-A945-4346-8B04-7DD2F5453280}\\InstallFlashPlayer.exe\tCommon Maximum Protection:Prevent creation of new executable files in the Windows folder\tAction blocked : Create\n",
    "7/30/2013\t10:18:02 AM\tWould be blocked by port blocking rule  (rule is currently not enforced) \tC:\\Windows\\SysWOW64\\Macromed\\Flash\\FlashPlayerUpdateService.exe\tCommon Maximum Protection:Prevent HTTP communication\t23.56.2.70:443\n",
    "7/30/2013\t10:22:48 AM\tWould be blocked by Access Protection rule  (rule is currently not enforced) \tNT AUTHORITY\\SYSTEM\tC:\\Windows\\system32\\svchost.exe\tC:\\Users\\tron\\AppData\\Roaming\\Mozilla\\Firefox\\prfD430.tmp\tCommon Standard Protection:Protect Mozilla & FireFox files and settings\tAction blocked : Create\n",
    "7/30/2013\t10:22:48 AM\tWould be blocked by Access Protection rule  (rule is currently not enforced) \tNT AUTHORITY\\SYSTEM\tC:\\Windows\\system32\\svchost.exe\tC:\\Users\\tron\\AppData\\Roaming\\Mozilla\\Firefox\\Profiles\\w77xlhgl.default\\webapps\\prfD432.tmp\tCommon Standard Protection:Protect Mozilla & FireFox files and settings\tAction blocked : Delete\n",
    "7/30/2013\t10:22:48 AM\tWould be blocked by Access Protection rule  (rule is currently not enforced) \tNT AUTHORITY\\SYSTEM\tC:\\Windows\\system32\\svchost.exe\tC:\\Users\\tron\\AppData\\Roaming\\Mozilla\\Firefox\\Profiles\\w77xlhgl.default\\prfD431.tmp\tCommon Standard Protection:Protect Mozilla & FireFox files and settings\tAction blocked : Create\n",
    "\"\"\"\n",
    "\n",
    "with tempfile.NamedTemporaryFile(delete=False) as fh:\n",
    "  testfile_path = fh.name\n",
    "  fh.write(text_to_enter)\n",
    "\n",
    "print u'Test file created: {}'.format(testfile_path)"
   ]
  },
  {
   "cell_type": "markdown",
   "metadata": {},
   "source": [
    "To you want to see the actual content of the file below, and ensure that is that has been successfully saved use the code below:"
   ]
  },
  {
   "cell_type": "code",
   "execution_count": null,
   "metadata": {
    "collapsed": true
   },
   "outputs": [],
   "source": [
    "lines_in_file = 0\n",
    "\n",
    "with open(testfile_path, 'rb') as fh:\n",
    "  for line in fh:\n",
    "    print line,\n",
    "    lines_in_file +=1\n",
    "    \n",
    "print u'With a total number of lines: {0:d}'.format(lines_in_file)"
   ]
  },
  {
   "cell_type": "markdown",
   "metadata": {},
   "source": [
    "## Parse the File\n",
    "\n",
    "We can use the code below to test our parsing, to see if the parser is capable of parsing the text file we provided it with."
   ]
  },
  {
   "cell_type": "code",
   "execution_count": null,
   "metadata": {
    "collapsed": true
   },
   "outputs": [],
   "source": [
    "from plaso.engine import knowledge_base\n",
    "from plaso.engine import queue\n",
    "from plaso.engine import single_process\n",
    "\n",
    "from plaso.lib import errors\n",
    "from dfvfs.lib import definitions\n",
    "\n",
    "from plaso.parsers import mediator as parsers_mediator\n",
    "\n",
    "from dfvfs.path import factory as path_spec_factory\n",
    "from dfvfs.resolver import resolver as path_spec_resolver\n",
    "\n",
    "# A library for testing parsers\n",
    "from tests.parsers import test_lib as parsers_test_lib\n",
    "\n",
    "# Create a mock knowledgebase object.\n",
    "knowledge_base_object = knowledge_base.KnowledgeBase()\n",
    "\n",
    "# Set the config to none at the moment.\n",
    "config = None\n",
    "\n",
    "# Create the parser object.\n",
    "test_parser = McafeeAccessProtectionParserFoo()\n",
    "\n",
    "# Open the file, or get a file entry.\n",
    "path_spec = path_spec_factory.Factory.NewPathSpec(\n",
    "    definitions.TYPE_INDICATOR_OS, location=testfile_path)\n",
    "file_entry = path_spec_resolver.Resolver.OpenFileEntry(path_spec)\n",
    "\n",
    "print u'Parsing file using: {}'.format(test_parser.NAME)\n",
    "\n",
    "# Create a parser mediator and the necessary queues.\n",
    "event_queue = single_process.SingleProcessQueue()\n",
    "event_queue_producer = single_process.SingleProcessItemQueueProducer(event_queue)\n",
    "\n",
    "parser_error_queue = single_process.SingleProcessQueue()\n",
    "parser_error_queue_producer = single_process.SingleProcessItemQueueProducer(\n",
    "      parser_error_queue)\n",
    "\n",
    "this_parser_mediator = parsers_mediator.ParserMediator(\n",
    "    event_queue_producer, parser_error_queue_producer, knowledge_base_object)\n",
    "\n",
    "# Parser the file using the parser.\n",
    "this_parser_mediator.SetFileEntry(file_entry)\n",
    "test_parser.Parse(this_parser_mediator)\n",
    "\n",
    "test_consumer = parsers_test_lib.TestItemQueueConsumer(event_queue)\n",
    "test_consumer.ConsumeItems()\n",
    "\n",
    "event_objects = test_consumer.event_objects\n",
    "\n",
    "print u'Processing of file is done.'\n",
    "print u'Able to extract: {} events from the file.'.format(len(event_objects))\n",
    "print u'There are in total: {0:d} lines in the file, which should match the number of extracted events'.format(\n",
    "    lines_in_file)\n",
    "if lines_in_file != len(event_objects):\n",
    "  print u'MISMATCH!'"
   ]
  },
  {
   "cell_type": "markdown",
   "metadata": {},
   "source": [
    "You should see 14 events being extracted from the file.\n",
    "\n",
    "We can also play a bit with the test file to see if everything parsed correctly."
   ]
  },
  {
   "cell_type": "code",
   "execution_count": null,
   "metadata": {
    "collapsed": true
   },
   "outputs": [],
   "source": [
    "from dfvfs.helpers import text_file\n",
    "\n",
    "# Open the file and compare the content to what was extracted.\n",
    "# This would only work for a simple text file that is a \"single line per record\" type of file\n",
    "# and is just for demonstration purpose here in this codelab.\n",
    "# AND this also depends on the previous code has been executed.\n",
    "file_object = file_entry.GetFileObject()\n",
    "text_file_object = text_file.TextFile(file_object)\n",
    "\n",
    "for index, event_object in enumerate(event_objects):\n",
    "  line = text_file_object.readline()\n",
    "  print u'*' * 80\n",
    "  print u'    EVENT NUMBER: {}'.format(index)\n",
    "  print u'-'*80\n",
    "  print u'Line:'\n",
    "  print line\n",
    "  print u'Event:'\n",
    "  print event_object.GetString()\n",
    "  print u''\n",
    "\n",
    "line = text_file_object.readline()\n",
    "\n",
    "if line:\n",
    "  print u'Unparsed lines still in file.'\n",
    "  counter = 0\n",
    "  while line:\n",
    "    # Uncomment if you want the actual line printed out that wasn't parsed.\n",
    "    # print line\n",
    "    line = text_file_object.readline()\n",
    "    counter += 1\n",
    "\n",
    "  print u'Lines not parsed: {}'.format(counter)"
   ]
  },
  {
   "cell_type": "markdown",
   "metadata": {},
   "source": [
    "### Writing the Tests\n",
    "\n",
    "Unit tests are designed to make sure your code is doing what you intended it to do, as well as to let other people know when their refactor broke your code.  This will also assist you when you are writing your code by doing a sanity check on your parser to make sure it works the way you expect it to.\n",
    "\n",
    "The tests go in their own file, so create tests/parsers/mcafee.py.\n",
    "\n",
    "Then fill in the rest of the header -- Doc String and imports.  'unittest' makes this a unit test file.\n",
    "\n",
    "You need to import the formatter, and likely rename is since it will conflict with the parser name, but you don't actually use the formatter directly in the file, so you end up with the pylint statement.  The other imports you'll see through out this code lab. But since everything is in the same namespace here we don't really need to import the formatter, but this is typically needed to be added:\n",
    "\n",
    "```python\n",
    "    # pylint: disable-msg=unused-import\n",
    "    from plaso.formatters import mcafeeav as mcafeeav_formatter\n",
    "```\n",
    "\n",
    "The pylint statement needs to be there to make sure that pylint does not complain about an unused import since we are not directly using the formatter, we are just importing it so that it gets registered (otherwise it will not work)."
   ]
  },
  {
   "cell_type": "markdown",
   "metadata": {},
   "source": [
    "#### TestCase and setUp()\n",
    "\n",
    "For a parser test we will use the ParserTestCase test cases.  This is a simple class that inherits from the base unittest.TestCase class but adds few functions to make it easier to test Plaso parsers. You may want to add a setUp() function to open the sample file and set any other variables you expect in the background, like a copy of the parser object.\n",
    "\n",
    "For a text parser, you just need to get the file path of the test file in question with the ```self._GetTestFilePath([filename])``` function.  This may depend on the test library assistant, for instance you have access to the ```self._GetKeyFromFile(self, path, key_path)``` if you are writing a test for a Windows Registry plugin. Please consult the test library for current available functions (below is a simple code to print out the help for the parser test_lib).\n",
    "\n",
    "Also for all tests that should run automatically, the function name needs to start with a lower case \"test\", eg; \"testParsing\", \"testFoo\", \"testBar\"."
   ]
  },
  {
   "cell_type": "markdown",
   "metadata": {},
   "source": [
    "To see further details about the parser tests assistant"
   ]
  },
  {
   "cell_type": "code",
   "execution_count": null,
   "metadata": {
    "collapsed": true
   },
   "outputs": [],
   "source": [
    "from tests.parsers import test_lib as parsers_test_lib\n",
    "PrintClassHelp(parsers_test_lib.ParserTestCase)"
   ]
  },
  {
   "cell_type": "markdown",
   "metadata": {},
   "source": [
    "Write the setUp() function for this class definition:\n",
    "\n",
    "```python\n",
    "class McafeeAccessProtectionUnitTest(parsers_test_lib.ParserTestCase):\n",
    "  \"\"\"A unit test for the McAfee AV Access Protection Log parser.\"\"\"\n",
    "\n",
    "  def setUp(self):\n",
    "```\n",
    "\n",
    "While we're setting up the boilerplate of the test, let's add the main function to the bottom of the file.  Then we can run the test on it's own.\n",
    "\n",
    "```python\n",
    "if __name__ == '__main__':\n",
    "  unittest.main()\n",
    "```\n",
    "\n",
    "### Writing the Test\n",
    "\n",
    "The outline of the main test is to create and run the parser, then check that the parser results are correct.  You should check a variety of attributes in one row and something about the file in general.\n",
    "\n",
    "The test needs to start with the word \"test\".  Let's use testParsing().  The assertions should include:\n",
    "\n",
    "+ How many entries were created?\n",
    "+ For entry[1], is the timestame, username, and full_path correct?\n",
    "+ For entry[1], are the message strings formatted correctly?\n"
   ]
  },
  {
   "cell_type": "code",
   "execution_count": null,
   "metadata": {
    "collapsed": true
   },
   "outputs": [],
   "source": [
    "class McafeeAccessProtectionUnitTestFoo(parsers_test_lib.ParserTestCase):\n",
    "  \"\"\"Tests for the McAfee AV Log parser.\"\"\"\n",
    "\n",
    "  def setUp(self):\n",
    "    \"\"\"Sets up the needed objects used throughout the test.\"\"\"\n",
    "    self._parser = McafeeAccessProtectionParserFoo()\n",
    "\n",
    "  def testParse(self):\n",
    "    \"\"\"Tests the Parse function.\"\"\"\n",
    "    # When the file is checked in, it shold be stored in the test_data folder\n",
    "    # but for the purposes of this codelab we are storing the content of the\n",
    "    # test file in a temporary file created earlier so we comment out the\n",
    "    # actual call to location and use the temporary file instead.\n",
    "    #test_file = self._GetTestFilePath(['AccessProtectionLog.txt'])\n",
    "    test_file = testfile_path\n",
    "    event_queue_consumer = self._ParseFile(self._parser, test_file)\n",
    "    event_objects = self._GetEventObjectsFromQueue(event_queue_consumer)\n",
    "\n",
    "    # The file contains 14 lines which results in 14 event objects.\n",
    "    self.assertEqual(len(event_objects), 14)\n",
    "\n",
    "    # Test that the UTF-8 byte order mark gets removed from the first line.\n",
    "    event_object = event_objects[0]\n",
    "\n",
    "    self.assertEqual(event_object.timestamp, 1380292946000000)\n",
    "\n",
    "    # Test this entry:\n",
    "    # 9/27/2013 2:42:26 PM  Blocked by Access Protection rule\n",
    "    #   SOMEDOMAIN\\someUser C:\\Windows\\System32\\procexp64.exe C:\\Program Files\n",
    "    # (x86)\\McAfee\\Common Framework\\UdaterUI.exe  Common Standard\n",
    "    # Protection:Prevent termination of McAfee processes  Action blocked :\n",
    "    # Terminate\n",
    "\n",
    "    event_object = event_objects[1]\n",
    "\n",
    "    self.assertEqual(event_object.timestamp, 1380292959000000)\n",
    "    self.assertEqual(event_object.username, u'SOMEDOMAIN\\\\someUser')\n",
    "    self.assertEqual(\n",
    "        event_object.full_path, u'C:\\\\Windows\\\\System32\\\\procexp64.exe')\n",
    "\n",
    "    expected_msg = (\n",
    "        u'File Name: C:\\\\Windows\\\\System32\\\\procexp64.exe '\n",
    "        u'User: SOMEDOMAIN\\\\someUser '\n",
    "        u'C:\\\\Program Files (x86)\\\\McAfee\\\\Common Framework\\\\Frame'\n",
    "        u'workService.exe '\n",
    "        u'Blocked by Access Protection rule  '\n",
    "        u'Common Standard Protection:Prevent termination of McAfee processes '\n",
    "        u'Action blocked : Terminate')\n",
    "    expected_msg_short = (\n",
    "        u'C:\\\\Windows\\\\System32\\\\procexp64.exe '\n",
    "        u'Action blocked : Terminate')\n",
    "\n",
    "    self._TestGetMessageStrings(event_object, expected_msg, expected_msg_short)"
   ]
  },
  {
   "cell_type": "markdown",
   "metadata": {},
   "source": [
    "### Running the Test\n",
    "\n",
    "How will you know what the format string should look like?  Well, it's time to run the code we have.  Typically the parser needs to be \"compiled\" before the test will be able to import it.  Which means that we need to make sure the parser gets picked up for compilation.\n",
    "\n",
    "Open plaso/parsers/\\_\\_init\\_\\_.py.  Add an import statement for your new parser.  Save the file.  Repeat for the formatters.\n",
    "\n",
    "Normally to run the tests you would either need to run:\n",
    "\n",
    "    $ python run_tests.py\n",
    "\n",
    "Or to compile:\n",
    "\n",
    "    $ python setup.py build && sudo python setup.py install\n",
    "\n",
    "And then you can run the test directly using:\n",
    "\n",
    "    $ python tests/parsers/mcafeeav.py\n",
    "\n",
    "Rinse and repeat as you write the tests.  If you change the parser, you need to recompile.  If you just change the test, you don't.\n",
    "\n",
    "However since we are writing this in our notebook we just need to make sure we've run all the previous code segments, and if you make changes, just re-run it.\n",
    "\n",
    "To run the test itself, execute the below code:"
   ]
  },
  {
   "cell_type": "code",
   "execution_count": null,
   "metadata": {
    "collapsed": true
   },
   "outputs": [],
   "source": [
    "import unittest\n",
    "\n",
    "my_suite = unittest.TestSuite()\n",
    "my_suite.addTest(McafeeAccessProtectionUnitTestFoo('testParse'))\n",
    "\n",
    "results = unittest.TextTestRunner(verbosity=3).run(my_suite)\n",
    "\n",
    "if results.errors:\n",
    "  print u'Errors came up while trying to run test.'\n",
    "  for error in results.errors:\n",
    "    if isinstance(error, basestring):\n",
    "      print error\n",
    "    else:\n",
    "      for sub_error in error:\n",
    "        print sub_error\n",
    "elif results.failures:\n",
    "  print u'Failures came up while trying to run test.'\n",
    "  for failure in results.failures:\n",
    "    if isinstance(failure, basestring):\n",
    "      print failure\n",
    "    else:\n",
    "      for sub_failure in failure:\n",
    "        print sub_failure\n",
    "else:\n",
    "  print u'All came out clean.'\n",
    "  print results"
   ]
  },
  {
   "cell_type": "markdown",
   "metadata": {},
   "source": [
    "If all went well you should have a fully functioning parser by now, ready to parse every text file matching the parser profile.  \n",
    "\n",
    "You can start playing around and making changes to the parser, to see what happens when changes are introduced, or continue and create a new parser.\n"
   ]
  },
  {
   "cell_type": "markdown",
   "metadata": {},
   "source": [
    "## The Assignment"
   ]
  },
  {
   "cell_type": "markdown",
   "metadata": {},
   "source": [
    "Now we have gone through step-by-step how a simple text based parser is created. It is time to take what we've learned so far and create a new parser.  \n",
    "\n",
    "The remainder of the codelab revolves around writing a text parser that parses a simple log format. Write the parser and the unittest to successfully parse that text file."
   ]
  },
  {
   "cell_type": "markdown",
   "metadata": {},
   "source": [
    "Let's start with a simple text file."
   ]
  },
  {
   "cell_type": "code",
   "execution_count": null,
   "metadata": {
    "collapsed": true
   },
   "outputs": [],
   "source": [
    "mystery_path = u''\n",
    "text_to_enter = r\"\"\"date,user,request,result,action,extra\n",
    "03/04/2013 21:20:32.3411,foobar,get all the data,no data here,GET,some weird stuff happening here\n",
    "03/12/2013 13:41:52.1231,foobar,get all the data,\"data loading,stuff happening, here it is\",GET,1235 bytes transferred\n",
    "06/05/2013 02:02:12.3421,john,insert data,success,PUT,1023 bytes inserted into attribute database\n",
    "07/12/2013 06:23:42.7019,john,get all the data,no data here,GET,seems to be an empty database\n",
    "12/24/2013 18:00:00.1234,dude,get some data,\"gathering data, please wait\",GET,10 bytes transferred\n",
    "01/14/2014 12:24:10.562,mike,get some data,\"gathering data,please wait\",GET,123155324 bytes transferred\n",
    "\"\"\"\n",
    "\n",
    "with tempfile.NamedTemporaryFile(delete=False) as fh:\n",
    "  mystery_path = fh.name\n",
    "  fh.write(text_to_enter)\n",
    "\n",
    "print u'Test file created: {}'.format(mystery_path)"
   ]
  },
  {
   "cell_type": "markdown",
   "metadata": {},
   "source": [
    "Fill in all the details in the parser so that it successfully parses this file."
   ]
  },
  {
   "cell_type": "code",
   "execution_count": null,
   "metadata": {
    "collapsed": true
   },
   "outputs": [],
   "source": [
    "class MysteryParser(text_parser.TextCSVParser):\n",
    "    \"\"\"Parses the mysterious text file created for this codelab.\"\"\"\n",
    "    \n",
    "    # Need to fill in this value, remember to have it descriptive, lower-case\n",
    "    # and short (can use underscore characters, eg: \"super_text\").\n",
    "    NAME = ''\n",
    "    \n",
    "    # Need to fill in the value for the parser description.\n",
    "    DESCRIPTION = 'This parser parses foo for bar'\n",
    "    \n",
    "    # If this value is necessary, then uncomment and set.\n",
    "    #VALUE_SEPARATOR = ''\n",
    "    \n",
    "    # If there is a header before the lines start it can be defined here, and\n",
    "    # the number of header lines that need to be skipped before the parsing\n",
    "    # starts.\n",
    "    #NUMBER_OF_HEADER_LINES = 0\n",
    "    \n",
    "    # If there is a special quote character used inside the structured text\n",
    "    # it can be defined here.\n",
    "    #QUOTE_CHAR = '\"'\n",
    "    \n",
    "    # Define the columns of the log file.\n",
    "    #COLUMNS = []\n",
    "    \n",
    "    def VerifyRow(self, parser_context, row):\n",
    "        \"\"\"Verify that this is truly our mystery file.\"\"\"\n",
    "        return False\n",
    "    \n",
    "    def ParseRow(self, parser_context, row_offset, row, file_entry=None):\n",
    "        \"\"\"Parse a single row from the mysterious log file.\"\"\"\n",
    "        pass"
   ]
  },
  {
   "cell_type": "markdown",
   "metadata": {},
   "source": [
    "[**optional code segment**] Remember if you make changes to the parser you need to de-register it before you run the code segment again (to register it):"
   ]
  },
  {
   "cell_type": "code",
   "execution_count": null,
   "metadata": {
    "collapsed": true
   },
   "outputs": [],
   "source": [
    "# OPTIONAL DO NOT EXECUTE UNLESS YOU'VE MADE CHANGES TO THE PARSER CODE ABOVE AND\n",
    "# NEED TO REGISTER THOSE CHANGES!\n",
    "\n",
    "manager.ParsersManager.DeregisterParser(MysteryParser)"
   ]
  },
  {
   "cell_type": "markdown",
   "metadata": {},
   "source": [
    "You will probably want to create a convenience event object, a small little boiler plate is put here, but it may be modified as you wish. For instance the TimestampEvent may not be the most suitable, look at the available classes in the plaso.lib.event:"
   ]
  },
  {
   "cell_type": "code",
   "execution_count": null,
   "metadata": {
    "collapsed": true
   },
   "outputs": [],
   "source": [
    "from plaso.events import time_events\n",
    "\n",
    "print ''\n",
    "for member_name, member_value in inspect.getmembers(time_events):\n",
    "  if inspect.isclass(member_value):\n",
    "    if event.EventObject in inspect.getmro(member_value):\n",
    "      print member_name\n",
    "      PrintClassHelp(member_value, '__init__')"
   ]
  },
  {
   "cell_type": "markdown",
   "metadata": {},
   "source": [
    "Here is the skeleton for the convenience event object."
   ]
  },
  {
   "cell_type": "code",
   "execution_count": null,
   "metadata": {
    "collapsed": true
   },
   "outputs": [],
   "source": [
    "class MysteryEvent(time_events.TimestampEvent):\n",
    "  \"\"\"Insert a nice little doc string here.\"\"\"\n",
    "    \n",
    "  DATA_TYPE = 'text:mystery:entry'\n",
    "    \n",
    "  def __init__(self, timestamp, foo, bar):\n",
    "    \"\"\"Initializes the mysterious log file event.\n",
    "\n",
    "    Args:\n",
    "      timestamp: The timestamp value, whatever format it comes in.\n",
    "      foo: A nice little attribute.\n",
    "      bar: Another nice little attribute\n",
    "    \"\"\"\n",
    "    # Call the parent class, at this time the timestamp needs to be in the proper\n",
    "    # format, perhaps we need to modify it here so that it confirms to the number\n",
    "    # of milliseconds since Epoch UTC.\n",
    "    super(MysteryEvent, self).__init__(\n",
    "        timestamp, timestamp_desc, self.DATA_TYPE)\n",
    "        \n",
    "    # Set the other attributes\n",
    "    self.foo = foo\n",
    "    self.bar = bar"
   ]
  },
  {
   "cell_type": "markdown",
   "metadata": {},
   "source": [
    "For the message string to be properly formatted we need to provide a formatter for the extracted event objects."
   ]
  },
  {
   "cell_type": "code",
   "execution_count": null,
   "metadata": {
    "collapsed": true
   },
   "outputs": [],
   "source": [
    "class MysteryFormatter(formatter_interface.ConditionalEventFormatter):\n",
    "  \"\"\"Class that formats events from the mysterious log file.\"\"\"\n",
    "    \n",
    "  DATA_TYPE = 'text:mystery:entry'\n",
    "    \n",
    "  # The format string.\n",
    "  FORMAT_STRING_PIECES = [\n",
    "      u'Foo: {foo}',\n",
    "      u'Bar or even BARRR: {bar:20s}']\n",
    "    \n",
    "  FORMAT_STRING_SHORT_PIECES = [u'BAR: {bar}']\n",
    "    \n",
    "  SOURCE_LONG = 'Mysterious Log File'\n",
    "  SOURCE_SHORT = 'LOG'\n",
    "    \n",
    "# This is not part of the \"regular code\", this is just added to make this codelab work.\n",
    "formatter = MysteryFormatter()\n",
    "formatter_manager.FormattersManager._formatter_objects[formatter.DATA_TYPE] = formatter"
   ]
  },
  {
   "cell_type": "markdown",
   "metadata": {},
   "source": [
    "[**optional code segment**] If you make changes to the formatter, you need to remove it from the registration before you register it again."
   ]
  },
  {
   "cell_type": "code",
   "execution_count": null,
   "metadata": {
    "collapsed": true
   },
   "outputs": [],
   "source": [
    "# This is OPTIONAL code, no need to run unless you make changes to the formatter and want to update\n",
    "# the registration (as in get the changes checked in).\n",
    "# You may need to change this to reflect the class name of the formatter.\n",
    "formatter_name = u'MysteryFormatter'\n",
    "\n",
    "# No need to change the code below.\n",
    "formatter_data_type = MysteryFormatter.DATA_TYPE\n",
    "if formatter_data_type in formatter_manager.FormattersManager._formatter_objects:\n",
    "  print 'Formatter registered, removing from manager.'\n",
    "  del formatter_manager.FormattersManager._formatter_objects[formatter_data_type]\n",
    "  print 'Formatter deleted from manager.'\n",
    "else:\n",
    "  print 'Formatter not found in manager.'\n",
    "    \n",
    "if formatter_name in formatter_manager.FormattersManager._formatter_classes:\n",
    "  print 'Removing formatter from class registration.'\n",
    "  del formatter_manager.FormattersManager._formatter_classes[formatter_name]\n",
    "  print 'Formatter removed from class registration.'"
   ]
  },
  {
   "cell_type": "markdown",
   "metadata": {},
   "source": [
    "And finally we need to create a unit test to make sure we are parsing the file properly."
   ]
  },
  {
   "cell_type": "code",
   "execution_count": null,
   "metadata": {
    "collapsed": true
   },
   "outputs": [],
   "source": [
    "# A library for testing parsers\n",
    "from tests.parsers import test_lib as parsers_test_lib\n",
    "\n",
    "class MysteryParserTest(parsers_test_lib.ParserTestCase):\n",
    "  \"\"\"Tests for the mysterious log file parser.\"\"\"\n",
    "\n",
    "  def setUp(self):\n",
    "    \"\"\"Sets up the needed objects used throughout the test.\"\"\"\n",
    "    self._parser = MysteryParser()\n",
    "\n",
    "  def testParse(self):\n",
    "    \"\"\"Tests the Parse function.\"\"\"\n",
    "    test_file = mystery_path\n",
    "    event_generator = self._ParseFile(self._parser, test_file)\n",
    "    event_objects = self._GetEventObjects(event_generator)\n",
    "\n",
    "    # At bare minimum we need to test that the parser successfully parsed\n",
    "    # all the lines.\n",
    "    self.assertEquals(len(event_objects), 6)\n",
    "\n",
    "    # Read in at least one (or more) event objects and make sure we are parsing\n",
    "    # them correctly. For instance let's test time parsing.\n",
    "    event_object = event_objects[1]\n",
    "\n",
    "    self.assertEquals(event_object.timestamp, 1363095712123100)\n",
    "    # Add here some tests to make sure we are parsing/extracting attribute names.\n",
    "\n",
    "    # And now we need to test our formatter, create a message string and test it.\n",
    "    expected_msg = u'This is a message string.'\n",
    "    expected_msg_short = u'The short version.'\n",
    "\n",
    "    self._TestGetMessageStrings(event_object, expected_msg, expected_msg_short)"
   ]
  },
  {
   "cell_type": "markdown",
   "metadata": {},
   "source": [
    "And run these tests to make sure we have everything covered."
   ]
  },
  {
   "cell_type": "code",
   "execution_count": null,
   "metadata": {
    "collapsed": true
   },
   "outputs": [],
   "source": [
    "my_suite = unittest.TestSuite()\n",
    "my_suite.addTest(MysteryParserTest('testParse'))\n",
    "\n",
    "results = unittest.TextTestRunner(verbosity=3).run(my_suite)\n",
    "\n",
    "if results.errors:\n",
    "  print u'Errors came up while trying to run test.'\n",
    "  for error in results.errors:\n",
    "    if isinstance(error, basestring):\n",
    "      print error\n",
    "    else:\n",
    "      for sub_error in error:\n",
    "        print sub_error\n",
    "elif results.failures:\n",
    "  print u'Failures came up while trying to run test.'\n",
    "  for failure in results.failures:\n",
    "    if isinstance(failure, basestring):\n",
    "      print failure\n",
    "    else:\n",
    "      for sub_failure in failure:\n",
    "        print sub_failure\n",
    "else:\n",
    "  print u'All came out clean.'\n",
    "  print results"
   ]
  },
  {
   "cell_type": "markdown",
   "metadata": {},
   "source": [
    "We also want to make sure the code doesn't trigger on the other text file."
   ]
  },
  {
   "cell_type": "code",
   "execution_count": null,
   "metadata": {
    "collapsed": true
   },
   "outputs": [],
   "source": [
    "# Create a mock preprocess object.\n",
    "pre_obj = event.PreprocessObject()\n",
    "\n",
    "# Create the parser object.\n",
    "test_parser = MysteryParser(pre_obj, None)\n",
    "\n",
    "# Open the file, or get a file entry.\n",
    "path_spec = path_spec_factory.Factory.NewPathSpec(\n",
    "    definitions.TYPE_INDICATOR_OS, location=testfile_path)\n",
    "file_entry = path_spec_resolver.Resolver.OpenFileEntry(path_spec)\n",
    "\n",
    "# Parser the file using the parser.\n",
    "event_generator = test_parser.Parse(file_entry)\n",
    "\n",
    "try:\n",
    "  # This will trigger the Parse function to reach the first yield statement\n",
    "  # thus trigger the verification routine.\n",
    "  _ = next(event_generator)\n",
    "    \n",
    "  print u'We were able to parse the McAfee text log using the {}. Please correct the parser.'.format(\n",
    "      test_parser.parser_name)                                                                                                           \n",
    "except errors.UnableToParseFile as exception:\n",
    "  print u'We failed parsing the McAfee text log using the {}, as it should be.'.format(test_parser.parser_name)"
   ]
  },
  {
   "cell_type": "markdown",
   "metadata": {},
   "source": [
    "And remember there may be some interesting code segments that were introduced in the overview of the McAfee parser that might help you (just change the appropriate calls to the McAfee parser to the newly created one and execute them again)."
   ]
  },
  {
   "cell_type": "markdown",
   "metadata": {},
   "source": [
    "## Clean Up\n",
    "\n",
    "During our test code we created a temporary file, that we may want to delete. To delete it, use the code below:\n"
   ]
  },
  {
   "cell_type": "code",
   "execution_count": null,
   "metadata": {
    "collapsed": true
   },
   "outputs": [],
   "source": [
    "import os\n",
    "\n",
    "if testfile_path:\n",
    "  os.remove(testfile_path)\n",
    "\n",
    "if mystery_path:\n",
    "  os.remove(mystery_path)"
   ]
  }
 ],
 "metadata": {
  "kernelspec": {
   "display_name": "Python 2",
   "language": "python",
   "name": "python2"
  },
  "language_info": {
   "codemirror_mode": {
    "name": "ipython",
    "version": 2
   },
   "file_extension": ".py",
   "mimetype": "text/x-python",
   "name": "python",
   "nbconvert_exporter": "python",
   "pygments_lexer": "ipython2",
   "version": "2.7.10"
  }
 },
 "nbformat": 4,
 "nbformat_minor": 0
}
