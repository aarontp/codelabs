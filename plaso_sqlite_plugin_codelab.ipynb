{
 "metadata": {
  "name": "",
  "signature": "sha256:745da2e152ad6ebe1d448bfd25d43ed7e4c081c3c55a0dba858765c7e08a25e8"
 },
 "nbformat": 3,
 "nbformat_minor": 0,
 "worksheets": [
  {
   "cells": [
    {
     "cell_type": "markdown",
     "metadata": {},
     "source": [
      "#SQLite Plugin Code Lab"
     ]
    },
    {
     "cell_type": "markdown",
     "metadata": {},
     "source": [
      "**N.B THIS CODELAB IS NOT WORKING ATM, it requires serious attention to fix before being usable.**"
     ]
    },
    {
     "cell_type": "heading",
     "level": 2,
     "metadata": {},
     "source": [
      "Intended Audience"
     ]
    },
    {
     "cell_type": "markdown",
     "metadata": {},
     "source": [
      "This lab is for people who want to learn how to write and execute a Plaso plugin in Python.  This tutorial assumes:\n",
      "\n",
      "+  You have a functional development environment\n",
      "+  You have used Plaso\n",
      "+  You are familiar with the Python programming language\n",
      "+  You are looking to write a plugin (as an opposed to a parser, which is covered in a [separate codelab](http://plaso.kiddaland.net/developer/code-lab/text-parser))\n",
      "\n",
      "## Objective\n",
      "\n",
      "This lab will teach you how to write a SQLite database plugin with tests for the Plaso framework.  By the end you will be able to:\n",
      "\n",
      "+ Write a SQLite database plugin for plaso\n",
      "+ Write unit tests for the plugin\n",
      "+ Run the plugin as part of plaso/log2timeline\n",
      "\n",
      "## Expectations\n",
      "\n",
      "This lab should take you a couple hours to complete.  Some of this is dependent entirely on strange build issues you might have.  We are not attempting to get you to check in code yet, this is more to demonstrate how a plugin is written. For this to be a checked in plugin you need to write a plugin against a registry key/value that is not already parsed and split the code here into several files (layout explained below).\n",
      "\n",
      "## Introduction\n",
      "\n",
      "Welcome to writing a Plaso plugin!  From the outside, writing a plugin can be daunting, but once you get your dev environment going, you've fought half the battle.  This code lab features a simple SQLite database plugin, but the formula can be used for any type of plugins (another codelab will demonstrate a [Windows Registry](http://plaso.kiddaland.net/developer/code-lab/windows-registry-plugin) plugin and the hope is that with these two codelabs we should have the plugin writing more or less covered). You may also be interested in the [text parser codelab](http://plaso.kiddaland.net/developer/code-lab/text-parser).\n",
      "\n",
      "## Before Starting\n",
      "\n",
      "Get familiar with the [developers guide](http://plaso.kiddaland.net/developer) and more specifically the [style guide](http://plaso.kiddaland.net/developer/style-guide). To make the code easier to maintain we follow a style guide, partially based on the [Google Python Style Guide](http://google-styleguide.googlecode.com/svn/trunk/pyguide.html) but slightly modified to fit our needs.\n",
      "\n",
      "We also follow a code review process that is discussed on the [style guide](http://plaso.kiddaland.net/developer/style-guide) site.\n",
      "\n",
      "This is an iPython notebook, and if you are not familiar with it then here is the brief introduction. This is basically an iPython shell wrapped up in a pretty GUI (browser window). You can execute any Python code you wish, and quickly go back, edit and re-run code. To run the code, click the window with the code segment and press \"Shift+Enter\", that way you will see that the bracket on the left will change to indicate it has been executed and you may see some output below (if the code segment produced any output).\n",
      "\n",
      "One thing to make note of is that some of the code segments depend on previous code segments having been executed. So in order for this codelab to work properly you need to execute **EVERY** code segment that is presented here, especially all class declarations and import statements, but to be sure just execute them all [except those explicitly stated as **optional**].\n",
      "\n",
      "To make it easier to get documentation about various classes we may use in the codelab we'll start with defining a simple function to print out help (so to execute, click the code segment below and press \"SHIFT+ENTER\")."
     ]
    },
    {
     "cell_type": "code",
     "collapsed": false,
     "input": [
      "import inspect\n",
      "\n",
      "# Let's put this in a method so we can easily call it from other parts of the codelab.\n",
      "def PrintClassHelp(class_object, filter_string=''):\n",
      "  \"\"\"Prints a help string for a given class object.\n",
      "\n",
      "  Args:\n",
      "    class_object: The class that we are about to inspect.\n",
      "    filter_string: Filter class members that start with a particular string.\n",
      "  \"\"\"\n",
      "  # Print the docstring of the class.\n",
      "  print u''\n",
      "  print class_object.__doc__\n",
      "   \n",
      "  # Print information for every member function.\n",
      "  additional_members = []\n",
      "  for member_name, member_value in inspect.getmembers(class_object):\n",
      "    # Check to see if we are filtering out members starting with\n",
      "    # a particular string.\n",
      "    if filter_string and not member_name.startswith(filter_string):\n",
      "      continue\n",
      "    if inspect.ismethod(member_value):\n",
      "      args = inspect.getargspec(member_value)\n",
      "      doc_string = member_value.__doc__\n",
      "        \n",
      "      print u'{0}{1:>20s}({2}){0:>10}\\n\\n{3}\\n{4}\\n\\n'.format(\n",
      "          '*'*5, member_name, u','.join(args.args), doc_string, '-'*80)\n",
      "    else:\n",
      "      if member_name.startswith('_'):\n",
      "        continue\n",
      "      if member_name in ['classes', 'parent_class', 'plugin_feature', 'top_level_class']:\n",
      "        continue\n",
      "        \n",
      "      additional_members.append(u'{} = {}'.format(member_name, repr(member_value)))\n",
      "\n",
      "  if additional_members:\n",
      "    print '\\n'\n",
      "    print '*** Additional Members of Class ***\\n\\n ',\n",
      "    print u'\\n  '.join(additional_members)"
     ],
     "language": "python",
     "metadata": {},
     "outputs": []
    },
    {
     "cell_type": "markdown",
     "metadata": {},
     "source": [
      "\n",
      "## Disclaimer\n",
      "\n",
      "During this codelab we will be using the iPython notebook interface for everything, which means we have all the classes and code in a single file. Once we deploy the code to the actual codebase we would need to save the code in several places, typically something like:\n",
      "\n",
      "+ plaso/parsers/sqlite_plugins/myplugin.py\n",
      "+ plaso/parsers/sqlite_plugins/myplugin_test.py\n",
      "+ plaso/formatters/myplugin.py\n",
      "\n",
      "And make necessary changes to:\n",
      "\n",
      "+ plaso/parsers/sqlite_plugins\\_\\_init\\_\\_.py\n",
      "+ plaso/formatters/\\_\\_init\\_\\_.py \n",
      "\n",
      "to include the new plugin and formatter in the tool. We may also want to change the **plaso/frontend/presets.py** to include the plugin in a preset. This still really depends on the plugin itself, sometimes you want to include the parser and all its plugins (like the case of Windows registry plugins), sometimes you only want to load specific plugin(s), which is typically the case with SQLite plugins.\n",
      "\n",
      "We are however omitting all these details to make the codelab easier to follow along. This can also be used for people to test their plugins and play with them without the need to mess with the codebase and once the plugin is fully functional then create the necessary files and start the code review process.\n",
      "\n",
      "There are also a lot of comments in the code in this codelab that would typically be omitted from a released plugin. To see the actual code that is used as an example here click on one of the below links (we will only be using parts of that code for demonstration):\n",
      "\n",
      "+ [plaso/parsers/sqlite_plugins/skype.py](https://github.com/log2timeline/plaso/blob/master/plaso/parsers/sqlite_plugins/skype.py)\n",
      "+ [plaso/parsers/sqlite_plugins/skype_test.py](https://github.com/log2timeline/plaso/blob/master/plaso/parsers/sqlite_plugins/skype_test.py)\n",
      "\n",
      "## Writing the Plugin\n",
      "\n",
      "We are going to write the plugin completely in this iPython notebook, and test it there too. There is no need for anything else than this notebook, a sample registry file and the plaso libs available.\n",
      "\n",
      "Before writing a plugin, and now we are assuming we are attempting parse a particular SQLite database, ask yourself these questions:\n",
      "\n",
      "+ Examine the database itself, what are the table names?\n",
      "+ What tables provide the information I'm trying to extract?\n",
      "+ Has there been a change in table names, and schema in different versions?\n",
      "+ Do I need to support older versions?\n",
      "+ What does the schema look like for the tables that I'm interested in?\n",
      "+ Are there any relations between the tables that I need to be aware of?\n",
      "+ How are the timestamps formatted? And where are they stored?\n",
      "+ Are there any defined \"VIEWS\" in the table that can help me understand the schema and how it is used?\n",
      "+ Create the SQL commands and execute them using something like sqlite3 to test them first.\n",
      "\n",
      "Remember that we are not about to submit this plugin in for review, since it is already checked in, this is only for demonstration purposes, please refer to the [plaso roadmap](https://docs.google.com/a/kiddaland.net/spreadsheet/ccc?key=0An0H7z4S52FldFFuQ2tHRDRsaEdzeDRBVXN5SXNfRnc#gid=0) for open parser/plugin assignments (or add your own).\n",
      "\n",
      "Before we start looking at the code we need to download the SQLite database to a temporary location so that we can use it for the remainder of this codelab. For this you need an Internet connection."
     ]
    },
    {
     "cell_type": "code",
     "collapsed": false,
     "input": [
      "# Import a library to make the HTTP connection.\n",
      "import urllib2\n",
      "\n",
      "# Import a library so that we can create a temporary file.\n",
      "import tempfile\n",
      "\n",
      "# The URL to the SYSTEM hive we are about to use for our testing.\n",
      "url = u'https://github.com/log2timeline/plaso/raw/master/test_data/skype_main.db'\n",
      "\n",
      "# Download the file.\n",
      "response = urllib2.urlopen(url)\n",
      "data = response.read()\n",
      "\n",
      "# Save it in a temporary file (we don't want it to be deleted).\n",
      "test_file = tempfile.NamedTemporaryFile(delete=False)\n",
      "\n",
      "# Save the name since that is what we will refer to later in the code.\n",
      "test_database_path = test_file.name\n",
      "\n",
      "# Write data to it.\n",
      "test_file.write(data)\n",
      "\n",
      "# Close the file.\n",
      "test_file.close()"
     ],
     "language": "python",
     "metadata": {},
     "outputs": []
    },
    {
     "cell_type": "markdown",
     "metadata": {},
     "source": [
      "### The header\n",
      "\n",
      "First things first, every file checked into the project needs a header. That header contains among other copyright information as well as import statements.\n",
      "\n",
      "The first line after the copyright statement is the doc string that needs to be changed, it should not be longer than 80 characters in width. If you need more\n",
      "than a single line to describe the parser please still only use max 80 characters as the first line, ending with a dot. Then you can create a more detailed\n",
      "description two lines down (an example of that can be seen below).\n",
      "\n",
      "The import order is defined in the [style guide](http://google-styleguide.googlecode.com/svn/trunk/pyguide.html?showone=Imports_formatting#Imports_formatting):\n",
      "\n",
      "    Imports are always put at the top of the file, just after any module comments and doc strings and before module globals and constants. \n",
      "    Imports should be grouped with the order being most generic to least generic:\n",
      "\n",
      "    + standard library imports\n",
      "    + third-party imports\n",
      "    + application-specific imports\n",
      "\n",
      "    Within each grouping, imports should be sorted lexicographically, ignoring case, according to each module's full package path.\n"
     ]
    },
    {
     "cell_type": "code",
     "collapsed": false,
     "input": [
      "#!/usr/bin/python\n",
      "#\n",
      "# Copyright 2013 The Plaso Project Authors.\n",
      "# Please see the AUTHORS file for details on individual authors.\n",
      "#\n",
      "# Licensed under the Apache License, Version 2.0 (the \"License\");\n",
      "# you may not use this file except in compliance with the License.\n",
      "# You may obtain a copy of the License at\n",
      "#\n",
      "#    http://www.apache.org/licenses/LICENSE-2.0\n",
      "#\n",
      "# Unless required by applicable law or agreed to in writing, software\n",
      "# distributed under the License is distributed on an \"AS IS\" BASIS,\n",
      "# WITHOUT WARRANTIES OR CONDITIONS OF ANY KIND, either express or implied.\n",
      "# See the License for the specific language governing permissions and\n",
      "# limitations under the License.\n",
      "\"\"\"This file contains a basic Skype SQLite parser.\"\"\"\n",
      "import logging\n",
      "\n",
      "# We need to be able to create new event objects, and more specifically\n",
      "# get access to timestamped events.\n",
      "from plaso.lib import event\n",
      "\n",
      "# Import the interface for all SQLite database plugins.\n",
      "from plaso.parsers.sqlite_plugins import interface"
     ],
     "language": "python",
     "metadata": {},
     "outputs": []
    },
    {
     "cell_type": "markdown",
     "metadata": {},
     "source": [
      "  \n",
      "### The Plugin Class\n",
      "\n",
      "We know need to know what kind of plugin you are trying to implement. The [\"Write A Plugin\"](http://plaso.kiddaland.net/developer/parsers/write-a-plugin) section at the plaso documentation site does go slightly into the generic plugin interface and what needs to be done in order to write a plugin. But for now we know we are trying to parse a specific SQLite database using a plugin. If we look at the [SQLite database plugin section](https://sites.google.com/a/kiddaland.net/plaso/developer/parsers/write-a-plugin/sqlite) we notice that the plugin interface is set up relatively simple.\n",
      "\n"
     ]
    },
    {
     "cell_type": "code",
     "collapsed": false,
     "input": [
      "print PrintClassHelp(interface.SQLitePlugin)"
     ],
     "language": "python",
     "metadata": {},
     "outputs": []
    },
    {
     "cell_type": "markdown",
     "metadata": {},
     "source": [
      "Let's create a database file object from the file we just downloaded."
     ]
    },
    {
     "cell_type": "code",
     "collapsed": false,
     "input": [
      "# Import pfile so we can open up the file.\n",
      "from plaso.pvfs import pfile\n",
      "\n",
      "# Create a mock preprocess object.\n",
      "pre_obj = event.PreprocessObject()\n",
      "\n",
      "# Open the file, or get a file entry.\n",
      "path_spec = pfile.PFileResolver.CopyPathToPathSpec('OS', test_database_path)\n",
      "file_entry = pfile.PFileResolver.OpenFileEntry(path_spec)\n",
      "\n",
      "# Create the database object.\n",
      "database = interface.SQLiteDatabase(file_entry)\n",
      "\n",
      "# Open it and get it ready to do some queries.\n",
      "database.Open()"
     ],
     "language": "python",
     "metadata": {},
     "outputs": []
    },
    {
     "cell_type": "markdown",
     "metadata": {},
     "source": [
      "Now we've got the database opened for future use and we can start exploring it. Let's look at what tables are in the database:"
     ]
    },
    {
     "cell_type": "code",
     "collapsed": false,
     "input": [
      "# The SQL command we need to issue to get table names.\n",
      "table_sql = 'SELECT name FROM sqlite_master WHERE type=\"table\"'\n",
      "\n",
      "# Create a small little method that we can later re-use here to execute SQL commands and get the results back.\n",
      "def QueryForResults(sql_command):\n",
      "    \"\"\"Execute a SQLite database query and return back a generator of results.\"\"\"\n",
      "    cursor = database.cursor\n",
      "    try:\n",
      "        results = cursor.execute(sql_command)\n",
      "    except sqlite3.DatabaseError as exception:\n",
      "      print u'SQLite error occured: <{0:s}>'.format(exception)\n",
      "      raise\n",
      "\n",
      "    for row in results:\n",
      "        yield row\n",
      "        \n",
      "print '*'*40 + ' TABLES ' + '*'*40\n",
      "for row in QueryForResults(table_sql):\n",
      "    print u'  + ',\n",
      "    print row[0]"
     ],
     "language": "python",
     "metadata": {},
     "outputs": []
    },
    {
     "cell_type": "markdown",
     "metadata": {},
     "source": [
      "There are quite a few tables there that could be of an assistance to us. Let's look at the table definition, or the schema of these tables."
     ]
    },
    {
     "cell_type": "code",
     "collapsed": false,
     "input": [
      "for row in QueryForResults('SELECT name, sql FROM sqlite_master WHERE type=\"table\"'):\n",
      "    print u'{0}  {1}  {0}'.format('*'*10, row[0])\n",
      "    print row[1]\n",
      "    print ''"
     ],
     "language": "python",
     "metadata": {},
     "outputs": []
    },
    {
     "cell_type": "markdown",
     "metadata": {},
     "source": [
      "Let's look for any values there that may have timestamps associated to them or otherwise could provide us with value. \n",
      "\n",
      "We can also look for VIEW tables:"
     ]
    },
    {
     "cell_type": "code",
     "collapsed": false,
     "input": [
      "for row in QueryForResults('SELECT name, sql FROM sqlite_master WHERE type=\"view\"'):\n",
      "    print u'{0}  {1}  {0}'.format('*', row[0])\n",
      "    print row[1]\n",
      "    print ''"
     ],
     "language": "python",
     "metadata": {},
     "outputs": []
    },
    {
     "cell_type": "markdown",
     "metadata": {},
     "source": [
      "Looking at the tables above we may have spotted the tables Chats and Messages... let's review them a bit more.\n",
      "\n",
      "\n"
     ]
    },
    {
     "cell_type": "code",
     "collapsed": false,
     "input": [
      "for row in QueryForResults('SELECT name, sql FROM sqlite_master WHERE type = \"table\" AND (name = \"Chats\" OR name = \"Messages\")'):\n",
      "    print u'{0}  Table: {1}  {0}'.format('*'*10, row[0])\n",
      "    #white_space = len('CREATE TABLE {} ('.format(row[0])) - 1\n",
      "    sql_string = row[1].replace('(', '(\\n    ')\n",
      "    print u'\\n   '.join(sql_string.split(','))\n",
      "    print ''"
     ],
     "language": "python",
     "metadata": {},
     "outputs": []
    },
    {
     "cell_type": "markdown",
     "metadata": {},
     "source": [
      "Inspecting these above tables can lead us to a SQL query like the one below:"
     ]
    },
    {
     "cell_type": "code",
     "collapsed": false,
     "input": [
      "chat_query = (\n",
      "    'SELECT c.id, c.participants, c.friendlyname AS title, '\n",
      "    'm.author AS author, m.from_dispname AS from_displayname, '\n",
      "    'm.body_xml, m.timestamp, c.dialog_partner FROM Chats c, Messages m '\n",
      "    'WHERE c.name = m.chatname')\n",
      "\n",
      "for index, row in enumerate(QueryForResults(chat_query)):\n",
      "  print '-'*80\n",
      "  print '      ROW RESULT: {}'.format(index)\n",
      "  print '-'*80\n",
      "  for key in row.keys():\n",
      "    print u'{} -> {}'.format(key, row[key])\n",
      "  print '*'*80\n",
      "  print ''"
     ],
     "language": "python",
     "metadata": {},
     "outputs": []
    },
    {
     "cell_type": "markdown",
     "metadata": {},
     "source": [
      "*One important disclaimer, since we are taking an already checked in plugin to use as an example, to avoid all namespace collitions we are appending the word \"Foo\" or \"foo\" to many of the class names and other fields.*"
     ]
    },
    {
     "cell_type": "markdown",
     "metadata": {},
     "source": [
      "#### Important Class Constants\n",
      "\n",
      "In plaso terms as soon as we've got more than a single \"parser\" that attempts to parse a particular file format we convert that to a plugin system. Then a very generic parser can be created that takes care of all file format parsing, leaving the plugins to do minimal work, just defining few class constants that are used to match the particular file or file segments to what the plugin is designed to parse and then a function to process the data collected.\n",
      "\n",
      "For SQLite database plugins we need to define the following class attributes:\n",
      "\n",
      "+ **NAME**: Name of the plugin, this should be short and concise but still descriptive. Something like \"skype\" or \"chrome\", etc.\n",
      "+ **QUERIES**: This is a list of all the SQL commands that should be run on the database and the name of the call back method we need to call with the query results.\n",
      "+ **REQUIRED_TABLES**: The parser itself will determine if we are trying to parse a SQLite database. However, since there are so many SQLite databases out there we need some additional information to determine if this particular plugin should be executed. For that we need a list (actually a frozenset) of the table names that need to be defined in the database for this plugin to be considered.\n",
      "+ **URLS**: [**OPTIONAL**] This is a list of URL's that can be used to read additional information about this particular registry key. This could be a link to some blogs discussing how to interpret the database, or a link to the developer of the database discussing the structure, etc."
     ]
    },
    {
     "cell_type": "markdown",
     "metadata": {},
     "source": [
      "#### Call back functions\n",
      "\n",
      "The underlying parser takes care of openinp up the database, query the available tables and compare that list to the list you provided in the REQUIRED_TABLES. If that list is determined as a subset of the actual tables the parser takes the queries defined in QUERIES and executes them one-by-one on the database.\n",
      "\n",
      "For every row that comes out of each query the parser calls the named call back function that is defined in the QUERIES list with the row, cache object and potentially other objects as well.\n",
      "\n",
      "For instance, if we define the SQL command:\n",
      "\n",
      "    QUERIES = [('SELECT foo FROM bar', 'ParseFoo')]\n",
      "\n",
      "Then the parser executes the command \"SELECT foo FROM bar\" and for every result that comes from that the function \"ParseFoo\" is called. This call back function needs to be defined in the plugin and accept the correct parameters:\n",
      "\n",
      "    def ParseFoo(self, row, **unused_kwargs):\n",
      "\n",
      "Or if you need access to a database cache object:\n",
      "\n",
      "    def ParseFoo(self, row, cache, **unused_kwargs):\n",
      "\n",
      "The SQLite database cache object that gets passed as a parameter to each SQLite call back function is an object that can be used to store cached data that you may need. Let's imagine a scenario... \n",
      "\n",
      "A database table defines a list of paths and filenames. Each row in the database contains the file name and an identification value for the parent value. To fully construct the path one would need to follow that parent id, query the database for that ID value, and see if that entry had a parent, etc. Some of this could be achieved using complex JOIN statements in SQLite, however sometimes it is just easier to run a single SQL command to get all these values, store that as a cache and then quickly look up values in the cache when needed.\n",
      "\n",
      "That is what the cache object can be used for. Let's look at the definition for the cache:"
     ]
    },
    {
     "cell_type": "code",
     "collapsed": false,
     "input": [
      "PrintClassHelp(interface.SQLiteCache)"
     ],
     "language": "python",
     "metadata": {},
     "outputs": []
    },
    {
     "cell_type": "markdown",
     "metadata": {},
     "source": [
      "Let's look at one example on how to use the cache:"
     ]
    },
    {
     "cell_type": "code",
     "collapsed": false,
     "input": [
      "# Create new cache instance.\n",
      "cache = interface.SQLiteCache()\n",
      "\n",
      "# Create a SQL command we would like to issue to the database and cache the results of.\n",
      "sql_command = u'SELECT parent_id, partner_handle AS skypeid, partner_dispname AS skypename FROM transfers'\n",
      "\n",
      "# Get a cursor so we can execute the SQL command.\n",
      "cursor = database.cursor\n",
      "# Execute the SQL command and get back a result set.\n",
      "results = cursor.execute(sql_command)\n",
      "\n",
      "# And now we can build the cache based on that result set.\n",
      "# This get's explained a bit more later on.\n",
      "cache.CacheQueryResults(\n",
      "    results, 'destination', 'parent_id', ('skypeid', 'skypename'))\n",
      "\n",
      "# And fetch the recently added entry here.\n",
      "destination_dict  = cache.GetResults('destination')\n",
      "\n",
      "print destination_dict"
     ],
     "language": "python",
     "metadata": {},
     "outputs": []
    },
    {
     "cell_type": "markdown",
     "metadata": {},
     "source": [
      "To be able to better understand the CacheQueryResults function let's print the docstring:"
     ]
    },
    {
     "cell_type": "code",
     "collapsed": false,
     "input": [
      "PrintClassHelp(cache.CacheQueryResults)"
     ],
     "language": "python",
     "metadata": {},
     "outputs": []
    },
    {
     "cell_type": "markdown",
     "metadata": {},
     "source": [
      "OK, so let's go back to that code of ours and see how that builds up that cache dict object:\n",
      "\n",
      "    cache.CacheQueryResults(\n",
      "        results, 'destination', 'parent_id', ('skypeid', 'skypename'))\n",
      "\n",
      "We call the function with the parameters set as:\n",
      "\n",
      "+ **sql_results**: *results*. We need to first issue the database query, get the results back and pass that object in.\n",
      "+ **attribute_name**: *'destination'*. This is the name of the attribute we would like to store the results as in the cache.\n",
      "+ **key_name**: *'parent_id'*. This is the name of the row key we would like to use as key in the resulting dict that will be created.\n",
      "+ **values**: *('skypeid', 'skypname')*. This is the list (or single value) of row keys that we would like to be used as values in the resulting dict that is created.\n",
      "\n",
      "To go over this specific example, what we are asking the cache to do is to create a dict object that is called \"destination\" and store the results from each row in that in the following way:\n",
      "\n",
      "    cache.destination = {}\n",
      "    for row in results:\n",
      "        cache.destination[row['parent_id']] = (row['skypeid'], row['skypename'])\n",
      "\n",
      "This is roughly what happens. What we end up is a dict that we can use based on the \"parent_id\" and it will give us the appropriate values for \"skypid\" and \"skypename\".\n",
      "\n",
      "An example here:"
     ]
    },
    {
     "cell_type": "code",
     "collapsed": false,
     "input": [
      "skype_id, skype_name =  destination_dict.get(23445435)\n",
      "\n",
      "print u'ID: {}\\nNAME: {}'.format(skype_id, skype_name)"
     ],
     "language": "python",
     "metadata": {},
     "outputs": []
    },
    {
     "cell_type": "markdown",
     "metadata": {},
     "source": [
      "#### Timestamp\n",
      "\n",
      "When dealing with the SQLite databases timestamps come in all shapes and formats. One of the more common format is POSIX time or Epoch time in UTC. However that may or may not be the case for the database you are examining.\n",
      "\n",
      "Let's examine what our options are:"
     ]
    },
    {
     "cell_type": "code",
     "collapsed": false,
     "input": [
      "# Import the library we are about to inspect.\n",
      "from plaso.lib import timelib\n",
      "\n",
      "# You can easily change the name of the class here if you want to explore a different\n",
      "# class and it's members.\n",
      "PrintClassHelp(timelib.Timestamp)"
     ],
     "language": "python",
     "metadata": {},
     "outputs": []
    },
    {
     "cell_type": "markdown",
     "metadata": {},
     "source": [
      "### Event Object\n",
      "\n",
      "Each timestamped event is described as an EventObject. Often it may be easier to create a convenience class to make it easier to create the EventObject.\n",
      "\n",
      "Let's examine one such example:"
     ]
    },
    {
     "cell_type": "code",
     "collapsed": false,
     "input": [
      "class SkypeChatEvent(event.PosixTimeEvent):\n",
      "  \"\"\"Convenience class for a Skype event.\"\"\"\n",
      "  \n",
      "  # Define the data type, this is very important and needs to have a 1:1\n",
      "  # mapping to the formatter for the event.\n",
      "  DATA_TYPE = 'skype:event:chat'\n",
      "\n",
      "  def __init__(self, row, to_account):\n",
      "    \"\"\"Build a Skype Event from a single row.\"\"\"\n",
      "    # First thing we need to do is to call the \"super\" class or the parent\n",
      "    # of the event. This particular event object inherits from a class\n",
      "    # called event.PosixTimeEvent, which expects the timestamp sent to\n",
      "    # it to be POSIX or Epoch in UTC.\n",
      "    # The parameters that need to be passed to the PosixTimeEvent are:\n",
      "    #    timestamp: Timestamp in POSIX or Epoch since UTC.\n",
      "    #    timestamp_desc: Description of the timestamp, eg \"Last Written Time\".\n",
      "    #    data_type: The data type of this event object.\n",
      "    super(SkypeChatEvent, self).__init__(\n",
      "        row['timestamp'], 'Chat from Skype', self.DATA_TYPE)\n",
      "\n",
      "    # We can now set other attributes that we need in order to better format\n",
      "    # the message. These attributes vary depending on the source they come from.\n",
      "    self.title = row['title']\n",
      "    self.text = row['body_xml']\n",
      "    self.from_account = u'{} <{}>'.format(\n",
      "        row['from_displayname'], row['author'])\n",
      "    self.to_account = to_account"
     ],
     "language": "python",
     "metadata": {},
     "outputs": []
    },
    {
     "cell_type": "markdown",
     "metadata": {},
     "source": [
      "The event object is pretty simple really. We need to set the following keys:\n",
      "\n",
      "+ **row**: FOO\n",
      "+ **to_account**: FOO\n",
      "\n",
      "This inherits from event.PosixTimeEvent:"
     ]
    },
    {
     "cell_type": "code",
     "collapsed": false,
     "input": [
      "PrintClassHelp(event.PosixTimeEvent, '__init__')"
     ],
     "language": "python",
     "metadata": {},
     "outputs": []
    },
    {
     "cell_type": "markdown",
     "metadata": {},
     "source": [
      "The parent class needs the following parameters:\n",
      "\n",
      "+ **posix_time**: The timestamp in POSIX time, or Epoch time (in UTC).\n",
      "+ **usage**: This is the description of the meaning of the timestamp, eg: \"Last Written\", \"Entry Created\".\n",
      "+ **data_type**: The data type of the EventObject, that needs to be a 1:1 mapping between what is defined in the formatter for this event object."
     ]
    },
    {
     "cell_type": "markdown",
     "metadata": {},
     "source": [
      "And that's it really, we only need to worry about filling in the values for the class constants and then create the appropriate call back functions (and potentially create some assistant event objects).\n",
      "\n",
      "Here is part of the code for the Skype parser, it is longer on the site, however for simplicity reasons it only shows one query and the resulting call back function for it."
     ]
    },
    {
     "cell_type": "code",
     "collapsed": false,
     "input": [
      "class SkypePluginFoo(interface.SQLitePlugin):\n",
      "  \"\"\"SQLite plugin for Skype main.db SQlite database file.\"\"\"\n",
      "\n",
      "  # Append foo to the name so this can be registered on the side with the other Skype\n",
      "  # parser. This is also only a partial parser (for simplicity reasons).\n",
      "  NAME = 'skype_foo'\n",
      "\n",
      "  # Define the needed queries. Here we skip most of the queries, only keep \n",
      "  # one to show how the plugin can be created without too much complexity.\n",
      "  QUERIES = [\n",
      "      (('SELECT c.id, c.participants, c.friendlyname AS title, '\n",
      "        'm.author AS author, m.from_dispname AS from_displayname, '\n",
      "        'm.body_xml, m.timestamp, c.dialog_partner FROM Chats c, Messages m '\n",
      "        'WHERE c.name = m.chatname'), 'ParseChat')]\n",
      "\n",
      "  # The required tables.\n",
      "  REQUIRED_TABLES = frozenset(\n",
      "      ['Chats', 'Accounts', 'Conversations', 'Contacts', 'SMSes', 'Transfers',\n",
      "       'CallMembers', 'Calls'])\n",
      "\n",
      "  def ParseChat(self, row, **unused_kwargs):\n",
      "    \"\"\"Parses a chat message row.\n",
      "\n",
      "    Args:\n",
      "      row: The row resulting from the query.\n",
      "\n",
      "    Yields:\n",
      "      An event object (SkypeChatEvent) containing the event data.\n",
      "    \"\"\"\n",
      "    to_account = ''\n",
      "    accounts = []\n",
      "    participants = row['participants'].split(' ')\n",
      "    for participant in participants:\n",
      "      if participant != row['author']:\n",
      "        accounts.append(participant)\n",
      "    to_account = u', '.join(accounts)\n",
      "\n",
      "    if not to_account:\n",
      "      if row['dialog_partner']:\n",
      "        to_account = row['dialog_partner']\n",
      "      else:\n",
      "        to_account = u'Unknown User'\n",
      "\n",
      "    yield SkypeChatEvent(row, to_account)"
     ],
     "language": "python",
     "metadata": {},
     "outputs": []
    },
    {
     "cell_type": "markdown",
     "metadata": {},
     "source": [
      "[**optional code segment**] If you make some modifications to the class above you need to first de-register it before you can register it again. To be able to de-register it use the code block below:"
     ]
    },
    {
     "cell_type": "code",
     "collapsed": false,
     "input": [
      "# OPTIONAL CODE BLOCK !! DON'T EXECUTE UNLESS YOU HAVE MADE SOME \n",
      "# CHANGES TO THE PARSER CODE AND WANT TO REGISTER IT AGAIN!!!\n",
      "from plaso.lib import plugin\n",
      "\n",
      "# Plugin namen\n",
      "plugin_name = 'skype_foo'\n",
      "\n",
      "if plugin_name in plugin.BasePlugin.classes:\n",
      "  print 'Class already registered, remove it.'\n",
      "  del plugin.BasePlugin.classes[plugin_name]"
     ],
     "language": "python",
     "metadata": {},
     "outputs": []
    },
    {
     "cell_type": "markdown",
     "metadata": {},
     "source": [
      "### Writing the Formatter\n",
      "\n",
      "Have you ever noticed the message string when you print out an event?\n"
     ]
    },
    {
     "cell_type": "code",
     "collapsed": false,
     "input": [
      "from plaso.lib import eventdata\n",
      "\n",
      "# Import the skype formatter.\n",
      "from plaso.formatters import skype as skype_formatter\n",
      "\n",
      "timestamp_now = timelib.Timestamp.GetNow()\n",
      "timestamp_posix = timestamp_now // 1000000\n",
      "\n",
      "# Let's create a dummy event.\n",
      "\n",
      "# For that we need to mimick the \"row\" object:\n",
      "dummy_row = {\n",
      "    'timestamp': timestamp_posix,\n",
      "    'title': 'This is a good title.',\n",
      "    'body_xml': 'Please pick up now...',\n",
      "    'from_displayname': 'Secret Caller',\n",
      "    'author': 'Me, myself and Irene'}\n",
      "    \n",
      "dummy_event = SkypeChatEvent(dummy_row, 'le baron')\n",
      "\n",
      "# And print the string.\n",
      "print dummy_event.GetString()\n",
      "\n",
      "# And to re-iterate, let's print the message string.\n",
      "message_string, _ = eventdata.EventFormatterManager.GetMessageStrings(dummy_event)\n",
      "\n",
      "print u'MESSAGE STRING: {}'.format(message_string)"
     ],
     "language": "python",
     "metadata": {},
     "outputs": []
    },
    {
     "cell_type": "markdown",
     "metadata": {},
     "source": [
      "Did you notice that in the event above you never really told it how to construct this message string? How does the tool then know how to print it out?\n",
      "\n",
      "That is the purpose of the formatter. The formatter is a simple class that defines what attributes to use and how they are put together to form this message string.\n",
      "\n",
      "You're going to need one for any parser you create (or more importantly any data type that there exist).\n",
      "\n",
      "The way the formatter works is that it looks at the data_type attribute in the EventObject and matches that to the formatters DATA_TYPE attribute. If they are the same, then the formatter proceeds to processing that EventObject and construct the messsage string.\n",
      "\n",
      "Formatters go in separate files under plaso/formatters.  Don't forget the copyright at the top!  \n",
      "\n",
      "For the most part, you're just setting some values with formats.  You'll want to set up structures that you want to see in your timeline.\n",
      "\n",
      "Most importantly (to re-iterate), the **DATA_TYPE** must match the data_type attribute from the EventObject from the last section.  Watch out for typos here -- there is no warning.\n",
      "\n",
      "There are two formatters that you can use, the simple **EventFormatter** and the **ConditionalEventFormatter**. The former should only be used if you are absolutely sure all the attributes mentioned there are going to be set for each and every event object created. That means that for the vast majority of the formatters the ConditionalEventFormatter should be the formatter of choice.\n",
      "\n",
      "There are two class constants that should always be set, irrelevant of the choice of formatters:\n",
      "\n",
      "+ **SOURCE_SHORT**: This should match one of the common sources, eg. LOG, WEBHIST, etc. This should closely correspond to the TLN format by H. Carvey as a short description of the source, almost like a short name for the category of the source.\n",
      "+ **SOURCE_LONG**: Since the category itself is not sufficient to describe the source we have an extra field called SOURCE_LONG that further defines that, for instance a browser history extracted from Chrome browser will have the source short set to WEBHIST, indicating that this comes from a web history, but the SOURCE_LONG contains the text \"Chrome History\", setting that apart from other browsers.\n",
      "\n",
      "For the simple EventFormatter two class constants have to be set (or at least one):\n",
      "\n",
      "+ **FORMAT_STRING**: An unicode string that contains formatting information, place all attribute names in {}. This is just a typical Python formatting string, so all typical [rules](http://docs.python.org/2/library/string.html#formatspec) apply. Timestamp, filename/path, username, hostname, etc information is presented in other fields and should not be a part of the message string.\n",
      "+ **FORMAT_STRING_SHORT**: This is only needed when you think that the resulting message string may exceed 80 characters in with and you don't want that to be shorten, as in you don't want the short message string to just contain the first 77 characters of the longer version you can construct your own condensed one.\n",
      "\n",
      "If you use the conditional formatter you need to define the following class constants:\n",
      "\n",
      "+ **FORMAT_STRING_PIECES**: The same as the FORMAT_STRING, except that this is a list and only one attribute name should be defined per entry. If an attribute is not set in the event object then that particular entry in the list will be omitted.\n",
      "+ **FORMAT_STRING_SHORT_PIECES**: Same as the FORMAT_STRING_SHORT except in the same format as FORMAT_STRING_PIECES, that is as a list.\n",
      "\n",
      "For our purposes we use the skype_formatter here:"
     ]
    },
    {
     "cell_type": "code",
     "collapsed": false,
     "input": [
      "PrintClassHelp(skype_formatter.SkypeChatFormatter)"
     ],
     "language": "python",
     "metadata": {},
     "outputs": []
    },
    {
     "cell_type": "markdown",
     "metadata": {},
     "source": [
      "## Test The Parser\n",
      "\n",
      "It is very important to test the parser, to see if it can at least parse our sample dataset.\n"
     ]
    },
    {
     "cell_type": "markdown",
     "metadata": {},
     "source": [
      "### Parse the File Using The Plugin\n",
      "\n",
      "We can use the code below to test our parsing, to see if the plugin is capable of parsing registry key we provided it with."
     ]
    },
    {
     "cell_type": "code",
     "collapsed": false,
     "input": [
      "from plaso.lib import errors\n",
      "\n",
      "# Create the plugin object.\n",
      "test_plugin = SkypePluginFoo(pre_obj)\n",
      "\n",
      "print u'Parsing file using: {}'.format(test_plugin.plugin_name)\n",
      "\n",
      "# We already have the registry key extracteed from a previous step.\n",
      "# We can just pass that to the plugin.\n",
      "event_generator = test_plugin.Process(cache=cache, database=database)\n",
      "\n",
      "event_objects = []\n",
      "\n",
      "event_object = None\n",
      "try:\n",
      "  # This will trigger the Parse function to reach the first yield statement\n",
      "  # thus trigger the verification routine.\n",
      "  event_object = next(event_generator)\n",
      "except errors.WrongPlugin as exception:\n",
      "  print u'Unable to parse the SQLite database (plugin fail, reason: {}'.format(exception)\n",
      "\n",
      "while event_object:\n",
      "  event_objects.append(event_object)\n",
      "  try:\n",
      "    event_object = next(event_generator)\n",
      "  except StopIteration:\n",
      "    break\n",
      "  except Exception as exception:\n",
      "    print u'Unexpected error (as an opposed to an expected one): {}'.format(exception)\n",
      "    print u'Stop processing.'\n",
      "    break\n",
      "\n",
      "print u'Processing of SQLite database is done.'\n",
      "print u'Able to extract: {} events from the database.'.format(len(event_objects))"
     ],
     "language": "python",
     "metadata": {},
     "outputs": []
    },
    {
     "cell_type": "markdown",
     "metadata": {},
     "source": [
      "Let's print out the event objects that we managed to extract from this plugin."
     ]
    },
    {
     "cell_type": "code",
     "collapsed": false,
     "input": [
      "# Print out the content of the extracted events.\n",
      "for index, event_object in enumerate(event_objects):\n",
      "  print u'*' * 80\n",
      "  print u'    EVENT NUMBER: {}'.format(index)\n",
      "  print u'-'*80\n",
      "  print u'Event:'\n",
      "  print event_object.GetString()\n",
      "  print u''\n"
     ],
     "language": "python",
     "metadata": {},
     "outputs": []
    },
    {
     "cell_type": "markdown",
     "metadata": {},
     "source": [
      "### Writing the Tests\n",
      "\n",
      "Unit tests are designed to make sure your code is doing what you intended it to do, as well as to let other people know when their refactor broke your code.  This will also assist you when you are writing your code by doing a sanity check on your parser to make sure it works the way you expect it to.\n",
      "\n",
      "The test go in their own file, in this case the file plaso/winreg_plugins/lfo_test.py.\n",
      "\n",
      "For the tests to work the formatter needs to imported. However since the formatter is typically named the same name as the actual parser (not in the case of a Windows registry plugin) we may need to import the formatter as a separate name. And since you don't actually use the formatter directly in the file you end up with needing a pylint statement to suppress error messages during linting.  The other imports you'll see through out this code lab. But since everything is in the same namespace here we don't really need to import the formatter, but this is typically added:\n",
      "\n",
      "    # pylint: disable-msg=unused-import\n",
      "    from plaso.formatters import winreg as winreg_formatter\n",
      "\n",
      "The pylint statement needs to be there to make sure that pylint does not complain about an unused import since we are not directly using the formatter, we are just importing it so that it gets registered (othwerise it will not work).\n"
     ]
    },
    {
     "cell_type": "markdown",
     "metadata": {},
     "source": [
      "#### TestCase and setUp()\n",
      "\n",
      "For a plugin test we will use the appropriate plugin test library, in this case the plaso/winreg_plugins/test_lib (or test_lib.RegistryPluginTestCase).  This is a simple class that inherits from the plaso parser test lib (which in turn inherits from the unittest.TestCase class), and adds a few functions to make it easier to test Windows registry plugins. You may want to add a setUp() function to open the sample file and set any other variables you expect in the background, like pre-processor results.  Preprocess will discover system variables such as Timezone and CurrentControlSet.  You can create a local preprocess object to mimic what you expect in a global one.\n",
      "\n",
      "For a Windows Registry plugin you typically need to open the registry hive using self._GetTestFilePath, define the registry key and use the self._GetKeyFromFile to get the key.\n",
      "\n",
      "In the lfu_test we are however working with a mock registry key, so in that case the registry cache needs to be pre-built and the key created.\n",
      "\n",
      "Let's first look at what functions are available to us in the registry test library."
     ]
    },
    {
     "cell_type": "code",
     "collapsed": false,
     "input": [
      "from plaso.parsers.winreg_plugins import test_lib\n",
      "\n",
      "PrintClassHelp(test_lib.RegistryPluginTestCase)"
     ],
     "language": "python",
     "metadata": {},
     "outputs": []
    },
    {
     "cell_type": "markdown",
     "metadata": {},
     "source": [
      "Write the setUp() function for this class definition:\n",
      "\n",
      "    class TestBootExecutePlugin(test_lib.RegistryPluginTestCase):\n",
      "      \"\"\"Tests for the LFU BootExecute Windows Registry plugin.\"\"\"\n",
      "\n",
      "      def setUp(self):\n",
      "\n",
      "While we're setting up the boilerplate of the test, let's add the main function to the bottom of the file.  Then we can run the test on its own.\n",
      "\n",
      "    if __name__ == '__main__':\n",
      "     unittest.main()\n",
      "\n",
      "### Writing the Test\n",
      "\n",
      "The outline of the main test is to create and run the plugin, then check that the plugin results are correct.  You should check a variety of attributes in one row and something about the extracted events in general.\n",
      "\n",
      "The test needs to start with the word \"test\".  Let's use testProcess() (since that is what we are testing, the Process function fo the plugin).  The assertions should include:\n",
      "\n",
      "+ How many entries were created?\n",
      "+ For entry[1], is the timestame, username, and full_path correct?\n",
      "+ For entry[1], are the message strings formatted correctly?\n"
     ]
    },
    {
     "cell_type": "code",
     "collapsed": false,
     "input": [
      "from plaso.lib import eventdata\n",
      "from plaso.winreg import test_lib as winreg_test_lib\n",
      "\n",
      "\n",
      "class TestBootExecutePluginFoo(test_lib.RegistryPluginTestCase):\n",
      "  \"\"\"Tests for the LFU BootExecute Windows Registry plugin.\"\"\"\n",
      "\n",
      "  def setUp(self):\n",
      "    \"\"\"Sets up the needed objects used throughout the test.\"\"\"\n",
      "    pre_obj = event.PreprocessObject()\n",
      "    registry_cache = cache.WinRegistryCache(None, 'SYSTEM')\n",
      "    registry_cache.attributes['current_control_set'] = 'ControlSet001'\n",
      "    # This would have to be changed to reflect the actual plugin, but since we\n",
      "    # are in the same namespace we can do this.\n",
      "    self._plugin = BootExecutePluginFoo(\n",
      "        pre_obj=pre_obj, reg_cache=registry_cache)\n",
      "\n",
      "  def testProcess(self):\n",
      "    \"\"\"Tests the Process function.\"\"\"\n",
      "    # In tests we put in the full path (as in not use the current_control_set\n",
      "    # attribute).\n",
      "    key_path = u'\\\\ControlSet001\\\\Control\\\\Session Manager'\n",
      "    values = []\n",
      "\n",
      "    # Here we are creating a test key, a fake registry key instead of reading\n",
      "    # one from an actual registry file (which is preferred).\n",
      "    values.append(winreg_test_lib.TestRegValue(\n",
      "        'BootExecute', 'autocheck autochk *\\x00'.encode('utf_16_le'), 7, 123))\n",
      "    values.append(winreg_test_lib.TestRegValue(\n",
      "        'CriticalSectionTimeout', '2592000'.encode('utf_16_le'), 1, 153))\n",
      "    values.append(winreg_test_lib.TestRegValue(\n",
      "        'ExcludeFromKnownDlls', '\\x00'.encode('utf_16_le'), 7, 163))\n",
      "    values.append(winreg_test_lib.TestRegValue(\n",
      "        'GlobalFlag', '0'.encode('utf_16_le'), 1, 173))\n",
      "    values.append(winreg_test_lib.TestRegValue(\n",
      "        'HeapDeCommitFreeBlockThreshold', '0'.encode('utf_16_le'), 1, 183))\n",
      "    values.append(winreg_test_lib.TestRegValue(\n",
      "        'HeapDeCommitTotalFreeThreshold', '0'.encode('utf_16_le') , 1, 203))\n",
      "    values.append(winreg_test_lib.TestRegValue(\n",
      "        'HeapSegmentCommit', '0'.encode('utf_16_le'), 1, 213))\n",
      "    values.append(winreg_test_lib.TestRegValue(\n",
      "        'HeapSegmentReserve', '0'.encode('utf_16_le'), 1, 223))\n",
      "    values.append(winreg_test_lib.TestRegValue(\n",
      "        'NumberOfInitialSessions', '2'.encode('utf_16_le'), 1, 243))\n",
      "\n",
      "    winreg_key = winreg_test_lib.TestRegKey(\n",
      "        key_path, 1346445929000000, values, 153)\n",
      "\n",
      "    event_generator = self._ParseKeyWithPlugin(self._plugin, winreg_key)\n",
      "    event_objects = self._GetEventObjects(event_generator)\n",
      "\n",
      "    self.assertEquals(len(event_objects), 2)\n",
      "\n",
      "    event_object = event_objects[0]\n",
      "\n",
      "    # Timestamp is: Fri, 31 Aug 2012 20:45:29 GMT\n",
      "    self.assertEquals(event_object.timestamp, 1346445929000000)\n",
      "\n",
      "    expected_string = (\n",
      "        u'[{0:s}] BootExecute: autocheck autochk *').format(key_path)\n",
      "\n",
      "    self._TestGetMessageStrings(event_object, expected_string, expected_string)\n",
      "\n",
      "    event_object = event_objects[1]\n",
      "\n",
      "    expected_msg = (\n",
      "        u'[{0:s}] '\n",
      "        u'CriticalSectionTimeout: 2592000 '\n",
      "        u'ExcludeFromKnownDlls: [] '\n",
      "        u'GlobalFlag: 0 '\n",
      "        u'HeapDeCommitFreeBlockThreshold: 0 '\n",
      "        u'HeapDeCommitTotalFreeThreshold: 0 '\n",
      "        u'HeapSegmentCommit: 0 '\n",
      "        u'HeapSegmentReserve: 0 '\n",
      "        u'NumberOfInitialSessions: 2').format(key_path)\n",
      "\n",
      "    expected_msg_short = (\n",
      "        u'[{0:s}] CriticalSectionTimeout: 2592000 Excl...').format(key_path)\n",
      "\n",
      "    self._TestGetMessageStrings(event_object, expected_msg, expected_msg_short)\n"
     ],
     "language": "python",
     "metadata": {},
     "outputs": []
    },
    {
     "cell_type": "markdown",
     "metadata": {},
     "source": [
      "### Running the Test\n",
      "\n",
      "How will you know what the format string should look like?  Well, it's time to run the code we have.  Typically the plugin needs to be \"compiled\" before the test will be able to import it, so we need to make sure the plugin gets picked up for compilation.\n",
      "\n",
      "Open plaso/parsers/winreg_plugins/\\_\\_init\\_\\_.py.  Add an import statement for your new plugin.  Save the file.\n",
      "\n",
      "Normally to run the tests you would either need to run:\n",
      "\n",
      "    python run_tests.py\n",
      "\n",
      "Or to compile:\n",
      "\n",
      "    python setup.py build && sudo python setup.py install\n",
      "\n",
      "And then you can run the test directly using:\n",
      "\n",
      "    python plaso/parsers/winreg_plugins/lfu_test.py\n",
      "\n",
      "Rinse and repeat as you write the tests.  If you change the parser, you need to recompile.  If you just change the test, you don't.\n",
      "\n",
      "**However** since we are writing this in our notebook we just need to make sure we've run all the previous code segments, and if you make changes, just re-run it.\n",
      "\n",
      "To run the test itself, execute the below code:"
     ]
    },
    {
     "cell_type": "code",
     "collapsed": false,
     "input": [
      "import unittest\n",
      "my_suite = unittest.TestSuite()\n",
      "my_suite.addTest(TestBootExecutePluginFoo('testProcess'))\n",
      "\n",
      "results = unittest.TextTestRunner(verbosity=3).run(my_suite)\n",
      "\n",
      "if results.errors:\n",
      "  print u'Errors came up while trying to run test.'\n",
      "  for error in results.errors:\n",
      "    if isinstance(error, basestring):\n",
      "      print error\n",
      "    else:\n",
      "      for sub_error in error:\n",
      "        print sub_error\n",
      "elif results.failures:\n",
      "  print u'Failures came up while trying to run test.'\n",
      "  for failure in results.failures:\n",
      "    if isinstance(failure, basestring):\n",
      "      print failure\n",
      "    else:\n",
      "      for sub_failure in failure:\n",
      "        print sub_failure\n",
      "else:\n",
      "  print u'All came out clean.'\n",
      "  print results"
     ],
     "language": "python",
     "metadata": {},
     "outputs": []
    },
    {
     "cell_type": "markdown",
     "metadata": {},
     "source": [
      "If all went well you should have a fully functioning plugin by now, ready to parse every boot execut registry key you may encounter.  \n",
      "\n",
      "You can start playing around and making changes to the plugin, to see what happens when changes are introduced, or continue and create a new plugin.\n"
     ]
    },
    {
     "cell_type": "markdown",
     "metadata": {},
     "source": [
      "## The Assignment"
     ]
    },
    {
     "cell_type": "markdown",
     "metadata": {},
     "source": [
      "Now we have gone through step-by-step how a simple Windows Registry plugin is created. It is time to take what we've learned so far and create a new plugin.  \n",
      "\n",
      "The remainder of the codelab revolves around writing a registry plugin that parses a simple registry key. Write the plugin and the unittest to successfully parse it."
     ]
    },
    {
     "cell_type": "markdown",
     "metadata": {},
     "source": [
      "Let's start with a simple registry key from our test registry hive."
     ]
    },
    {
     "cell_type": "code",
     "collapsed": false,
     "input": [
      "mystery_key_path = '\\\\ControlSet001\\\\Control\\\\ProductOptions'\n",
      "mystery_key = winreg_file.GetKeyByPath(mystery_key_path)\n",
      "\n",
      "print mystery_key"
     ],
     "language": "python",
     "metadata": {},
     "outputs": []
    },
    {
     "cell_type": "markdown",
     "metadata": {},
     "source": [
      "First thing first, what does this key mean? Let's read up:\n",
      "\n",
      " + http://support.microsoft.com/kb/152078\n",
      " + http://support.microsoft.com/kb/181412\n",
      " + http://technet.microsoft.com/en-us/library/cc782360%28WS.10%29.aspx\n",
      " "
     ]
    },
    {
     "cell_type": "markdown",
     "metadata": {},
     "source": [
      "Fill in all the details in the parser so that it successfully parses this file."
     ]
    },
    {
     "cell_type": "code",
     "collapsed": false,
     "input": [
      "class MysteryPlugin(interface.KeyPlugin):\n",
      "  \"\"\"Plug-in to collect something from something.\"\"\"\n",
      "\n",
      "  # Change the name to something more descriptive.\n",
      "  NAME = 'mystery_plugin'\n",
      "\n",
      "  # Define the path to the registry key (notice the use of the current_control_set).\n",
      "  REG_KEYS = [u'\\\\{current_control_set}\\\\Control\\\\ProductOptions']\n",
      "    \n",
      "  # This is only designed to parse a registry key from the SYSTEM hive.\n",
      "  REG_TYPE = 'SYSTEM'\n",
      "    \n",
      "  # Fill in here.\n",
      "  URLS = []\n",
      "\n",
      "  def GetEntries(self, unused_cache=None):\n",
      "    \"\"\"Gather data from our plugin, please rewrite me.\"\"\""
     ],
     "language": "python",
     "metadata": {},
     "outputs": []
    },
    {
     "cell_type": "markdown",
     "metadata": {},
     "source": [
      "[**optional code segment**] Remember if you make changes to the parser you need to de-register it before you run the code segment again (to register it):"
     ]
    },
    {
     "cell_type": "code",
     "collapsed": false,
     "input": [
      "# OPTIONAL DO NOT EXECUTE UNLESS YOU'VE MADE CHANGES TO THE PARSER CODE ABOVE AND\n",
      "# NEED TO REGISTER THOSE CHANGES!\n",
      "\n",
      "# Plugin name (fill in the name of your parser)\n",
      "plugin_name = 'mystery_plugin'\n",
      "\n",
      "# No need to change this.\n",
      "if plugin_name in plugin.BasePlugin.classes:\n",
      "  print 'Class already registered, remove it.'\n",
      "  del plugin.BasePlugin.classes[plugin_name]"
     ],
     "language": "python",
     "metadata": {},
     "outputs": []
    },
    {
     "cell_type": "markdown",
     "metadata": {},
     "source": [
      "And finally we need to create a unit test to make sure we are parsing the key properly."
     ]
    },
    {
     "cell_type": "code",
     "collapsed": false,
     "input": [
      "class MysteryPluginTest(test_lib.RegistryPluginTestCase):\n",
      "  \"\"\"Tests for the mysterious registry key.\"\"\"\n",
      "\n",
      "  def setUp(self):\n",
      "    \"\"\"Sets up the needed objects used throughout the test.\"\"\"\n",
      "    # Once we would actually commit the code in we would use a real file\n",
      "    # that is inside our test directory. But for now we call the temporary\n",
      "    # file that we defined earlier.\n",
      "    #test_file = self._GetTestFilePath(['SYSTEM'])\n",
      "    self.test_file = test_registry_file_name\n",
      "        \n",
      "    reg_cache = cache.WinRegistryCache(None, 'SYSTEM')\n",
      "    reg_cache.attributes['current_control_set'] = 'ControlSet001'\n",
      "    \n",
      "    pre_obj = event.PreprocessObject()\n",
      "    self._plugin = MysteryPlugin(pre_obj=pre_obj, reg_cache=reg_cache)\n",
      "\n",
      "  def testProcess(self):\n",
      "    \"\"\"Tests the Process function and change me, pretty please.\"\"\"\n",
      "    # Put in the actual path, test files do not expand the key using attributes.\n",
      "    key_path = '\\\\ControlSet001\\\\Control\\\\ProductOptions'\n",
      "    winreg_key = self._GetKeyFromFile(self.test_file, key_path)\n",
      "\n",
      "    event_generator = self._ParseKeyWithPlugin(self._plugin, winreg_key)\n",
      "    event_objects = self._GetEventObjects(event_generator)\n",
      "\n",
      "    # At bare minimum we need to test that the parser successfully parsed\n",
      "    # all the lines.\n",
      "    self.assertEquals(len(event_objects), 1)\n",
      "\n",
      "    # Let's read in this event object and verify some of it's fields.\n",
      "    event_object = event_objects[0]\n",
      "\n",
      "    # Make sure the timestamp is the correct one.\n",
      "    # date -u -d \"2011-09-17T13:43:39.129177\" +\"%s%N\" / 1000\n",
      "    self.assertEquals(event_object.timestamp, 1316267019129177)\n",
      "    # Add here some tests to make sure we are parsing/extracting attribute names.\n",
      "\n",
      "    # And now we need to test our formatter, create a message string and test it.\n",
      "    expected_msg = u'This is a message string.'\n",
      "    expected_msg_short = u'The short version.'\n",
      "\n",
      "    self._TestGetMessageStrings(event_object, expected_msg, expected_msg_short)"
     ],
     "language": "python",
     "metadata": {},
     "outputs": []
    },
    {
     "cell_type": "markdown",
     "metadata": {},
     "source": [
      "And run these tests to make sure we have everything covered."
     ]
    },
    {
     "cell_type": "code",
     "collapsed": false,
     "input": [
      "my_suite = unittest.TestSuite()\n",
      "my_suite.addTest(MysteryPluginTest('testProcess'))\n",
      "\n",
      "results = unittest.TextTestRunner(verbosity=3).run(my_suite)\n",
      "\n",
      "if results.errors:\n",
      "  print u'Errors came up while trying to run test.'\n",
      "  for error in results.errors:\n",
      "    if isinstance(error, basestring):\n",
      "      print error\n",
      "    else:\n",
      "      for sub_error in error:\n",
      "        print sub_error\n",
      "elif results.failures:\n",
      "  print u'Failures came up while trying to run test.'\n",
      "  for failure in results.failures:\n",
      "    if isinstance(failure, basestring):\n",
      "      print failure\n",
      "    else:\n",
      "      for sub_failure in failure:\n",
      "        print sub_failure\n",
      "else:\n",
      "  print u'All came out clean.'\n",
      "  print results"
     ],
     "language": "python",
     "metadata": {},
     "outputs": []
    },
    {
     "cell_type": "markdown",
     "metadata": {},
     "source": [
      "And remember there may be some interesting code segments that were introduced in the overview of the boot execute plugin that might help you during this assignment (just change the appropriate calls to the boot execute plugin to the newly created one and execute them again).\n",
      "\n",
      "And you can also start playing a bit with this registry hive to find other interesting keys (since the key in the assignment is not really that interesting).\n",
      "\n",
      "This code segment below is necessary to set up our \"exploration\" environment."
     ]
    },
    {
     "cell_type": "code",
     "collapsed": false,
     "input": [
      "# Import the libraries from preg, so we can start exploring the registry.\n",
      "from plaso.frontend import preg\n",
      "\n",
      "# Open up the registry hive.\n",
      "print test_registry_file_name\n",
      "preg.OpenHive(test_registry_file_name)\n",
      "\n",
      "# Get access to the iPython shell we are in, so we can start modifying it a bit.\n",
      "shell = get_ipython()\n",
      "\n",
      "# Adding \"magic\" functions.\n",
      "shell.register_magics(preg.MyMagics)\n",
      "\n",
      "# Registering command completion for the magic commands.\n",
      "shell.set_hook('complete_command', preg.CdCompleter, str_key='%cd')\n",
      "shell.set_hook('complete_command', preg.VerboseCompleter, str_key='%ls')\n",
      "shell.set_hook('complete_command', preg.VerboseCompleter, str_key='%parse')\n",
      "shell.set_hook('complete_command', preg.PluginCompleter, str_key='%plugin')"
     ],
     "language": "python",
     "metadata": {},
     "outputs": []
    },
    {
     "cell_type": "markdown",
     "metadata": {},
     "source": [
      "And now we can start exploring this registry file.\n",
      "\n",
      "Try commands like:\n",
      " + cd KEY\n",
      " + ls [-v]\n",
      " + parse [-v]\n",
      " + plugin PLUGIN_NAME\n",
      " \n",
      "Tab completion for key names should work (please try it out and play with it). Which means you can type something like:\n",
      "\n",
      "    cd C<TAB>\n",
      "    \n",
      "And the tab completion will try to complete that registry key.\n",
      "\n",
      "Try to begin with something like the code segment below, and then change it at will (the % in front of commands is to specify these are \"magic\" commands, it is not necessary to have there, but it's kept just in case since some setups of ipython/notebook don't seem to like not having it there)"
     ]
    },
    {
     "cell_type": "code",
     "collapsed": false,
     "input": [
      "%ls\n",
      "%cd \\ControlSet001\\Enum\\USBSTOR\n",
      "%ls\n",
      "%cd Disk&Ven_HP&Prod_v100w&Rev_1024\\AA951D0000007252&0\n",
      "%ls -v\n",
      "%parse\n",
      "%pwd"
     ],
     "language": "python",
     "metadata": {},
     "outputs": []
    },
    {
     "cell_type": "markdown",
     "metadata": {},
     "source": [
      "## Clean Up\n",
      "\n",
      "During our test code we created a temporary file, that we may want to delete. To delete it, use the code below:\n"
     ]
    },
    {
     "cell_type": "code",
     "collapsed": false,
     "input": [
      "import os\n",
      "\n",
      "if test_registry_file_name:\n",
      "  os.remove(test_registry_file_name)"
     ],
     "language": "python",
     "metadata": {},
     "outputs": []
    }
   ],
   "metadata": {}
  }
 ]
}